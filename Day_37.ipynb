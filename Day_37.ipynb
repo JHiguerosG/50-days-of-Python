{
 "cells": [
  {
   "cell_type": "markdown",
   "id": "00b21064-4fbd-4ef3-8e17-8722aca16f64",
   "metadata": {},
   "source": [
    "# Day 37: Count the Vowels\n",
    "\n",
    "Create a function called **count_the_vowels**. The function takes one argument, a string, and returns the number of **vowels** in the string. For example **'hello'** should return **2** vowels. If a vowel appears in a string more than once it should be **counted as one**. For example, **'saas'** should return **1** vowel. Your code should count lowercase and uppercase vowels."
   ]
  },
  {
   "cell_type": "markdown",
   "id": "da8a11b7-8051-4691-91ba-dff3b4fa8324",
   "metadata": {},
   "source": [
    "# Día 37: Contar las Vocales\n",
    "\n",
    "Crea una función llamada **count_the_vowels**. La función toma un argumento, una cadena, y devuelve el número de vocales en la cadena. Por ejemplo, **'hello'** debería devolver **2** vocales. Si una vocal aparece en la cadena más de una vez, debe contarse solo una vez. Por ejemplo, **'saas'** debería devolver **1** vocal. Tu código debe contar vocales en minúsculas y mayúsculas."
   ]
  },
  {
   "cell_type": "code",
   "execution_count": 15,
   "id": "01b577bf-8f98-4516-bcca-9702fcaada4d",
   "metadata": {},
   "outputs": [],
   "source": [
    "def count_the_vowels(string):\n",
    "    vowels = set()\n",
    "    for char in string.lower():\n",
    "        if char in ['a', 'e', 'i', 'o', 'u']:\n",
    "            vowels.add(char)\n",
    "    print(f'{len(vowels)} {'vowel' if len(vowels) == 1 else 'vowels'}')"
   ]
  },
  {
   "cell_type": "code",
   "execution_count": 16,
   "id": "4caa47b6-16c2-4ae9-8a1e-496f5249e315",
   "metadata": {},
   "outputs": [
    {
     "name": "stdout",
     "output_type": "stream",
     "text": [
      "2 vowels\n"
     ]
    }
   ],
   "source": [
    "count_the_vowels('Hello')"
   ]
  },
  {
   "cell_type": "code",
   "execution_count": 17,
   "id": "72dd4954-af6c-4049-a371-aa24e9217f49",
   "metadata": {},
   "outputs": [
    {
     "name": "stdout",
     "output_type": "stream",
     "text": [
      "1 vowel\n"
     ]
    }
   ],
   "source": [
    "count_the_vowels('saas')"
   ]
  }
 ],
 "metadata": {
  "kernelspec": {
   "display_name": "Python 3 (ipykernel)",
   "language": "python",
   "name": "python3"
  },
  "language_info": {
   "codemirror_mode": {
    "name": "ipython",
    "version": 3
   },
   "file_extension": ".py",
   "mimetype": "text/x-python",
   "name": "python",
   "nbconvert_exporter": "python",
   "pygments_lexer": "ipython3",
   "version": "3.12.3"
  }
 },
 "nbformat": 4,
 "nbformat_minor": 5
}
