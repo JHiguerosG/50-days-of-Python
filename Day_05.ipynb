{
 "cells": [
  {
   "cell_type": "markdown",
   "id": "d0e8bddb-134c-4d90-961a-08693042ca4c",
   "metadata": {},
   "source": [
    "# Day 5: My Discount\n",
    "\n",
    "Create a function called **my_discount**. The function takes no arguments but asks the user to input the **price** and the **discount** (percentage) of the product. Once the user inputs the price and discount, it calculates the **price after the discount**. The function should return the price after the discount. For example, if the user enters **150** as price and **15%** as the discount, your function should return **127.5**."
   ]
  },
  {
   "cell_type": "markdown",
   "id": "b13bc6bf-2186-466d-932f-7f37e8248000",
   "metadata": {},
   "source": [
    "## Día 5: Mi Descuento\n",
    "\n",
    "Crea una función llamada **my_discount**. La función no recibe argumentos, pero solicita al usuario que ingrese el **precio** y el **descuento** (porcentaje) del producto. Una vez que el usuario ingrese el precio y el descuento, la función calculará el **precio después del descuento**. La función debe devolver el precio final. Por ejemplo, si el usuario ingresa **150** como precio y **15%** como descuento, la función debería devolver **127.5**."
   ]
  },
  {
   "cell_type": "code",
   "execution_count": 7,
   "id": "3431035c-45b3-49cc-9d8d-329b52922bed",
   "metadata": {},
   "outputs": [],
   "source": [
    "def my_discount(price, discount):\n",
    "    price_after_discount = price - (price * discount/100)\n",
    "    return price_after_discount"
   ]
  },
  {
   "cell_type": "code",
   "execution_count": 9,
   "id": "12a5a91f-20b7-4d97-8697-f17fd64caa96",
   "metadata": {},
   "outputs": [
    {
     "data": {
      "text/plain": [
       "127.5"
      ]
     },
     "execution_count": 9,
     "metadata": {},
     "output_type": "execute_result"
    }
   ],
   "source": [
    "my_discount(150, 15)"
   ]
  },
  {
   "cell_type": "code",
   "execution_count": 11,
   "id": "d32fe12d-03f9-4b08-a7be-cf2db822d08d",
   "metadata": {},
   "outputs": [
    {
     "data": {
      "text/plain": [
       "135.0"
      ]
     },
     "execution_count": 11,
     "metadata": {},
     "output_type": "execute_result"
    }
   ],
   "source": [
    "my_discount(150, 10)"
   ]
  }
 ],
 "metadata": {
  "kernelspec": {
   "display_name": "Python 3 (ipykernel)",
   "language": "python",
   "name": "python3"
  },
  "language_info": {
   "codemirror_mode": {
    "name": "ipython",
    "version": 3
   },
   "file_extension": ".py",
   "mimetype": "text/x-python",
   "name": "python",
   "nbconvert_exporter": "python",
   "pygments_lexer": "ipython3",
   "version": "3.11.5"
  }
 },
 "nbformat": 4,
 "nbformat_minor": 5
}
