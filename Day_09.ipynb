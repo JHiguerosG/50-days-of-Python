{
 "cells": [
  {
   "cell_type": "markdown",
   "id": "913bd22b-e7e2-418e-9791-052d0aa52d77",
   "metadata": {},
   "source": [
    "# Day 9: Biggest Odd Number\n",
    "\n",
    "Create a function called **biggest_odd** that takes a string of numbers and returns the biggest odd number in the list. For example, if you pass **'23569'** as an argument, your function should return **9**. Use **list comprehension**."
   ]
  },
  {
   "cell_type": "markdown",
   "id": "b747ed9c-0528-4b1a-917c-b43d1898be39",
   "metadata": {},
   "source": [
    "# Día 9: El Número Impar Más Grande\n",
    "\n",
    "Crea una función llamada **biggest_odd** que tome una cadena de números y devuelva el número impar más grande de la lista. Por ejemplo, si pasas **'23569'** como argumento, tu función debería devolver **9**. Utiliza **list comprehension**."
   ]
  },
  {
   "cell_type": "code",
   "execution_count": 146,
   "id": "c5181439-87f5-4cfe-a1f3-5044797fde4d",
   "metadata": {},
   "outputs": [],
   "source": [
    "def biggest_odd(string):\n",
    "    return max([int(i) for i in string if int(i)%2!=0])"
   ]
  },
  {
   "cell_type": "code",
   "execution_count": 148,
   "id": "fcc07fad-6192-4be5-b29d-47fa51d07ad3",
   "metadata": {},
   "outputs": [
    {
     "data": {
      "text/plain": [
       "9"
      ]
     },
     "execution_count": 148,
     "metadata": {},
     "output_type": "execute_result"
    }
   ],
   "source": [
    "biggest_odd('23569')"
   ]
  },
  {
   "cell_type": "code",
   "execution_count": 150,
   "id": "ff235cc6-46cd-474c-a31f-d7fd8ab5e3a6",
   "metadata": {},
   "outputs": [
    {
     "data": {
      "text/plain": [
       "7"
      ]
     },
     "execution_count": 150,
     "metadata": {},
     "output_type": "execute_result"
    }
   ],
   "source": [
    "biggest_odd('861837')"
   ]
  },
  {
   "cell_type": "code",
   "execution_count": 152,
   "id": "78c39329-d560-4b4c-85fd-5d2956e66316",
   "metadata": {},
   "outputs": [
    {
     "data": {
      "text/plain": [
       "9"
      ]
     },
     "execution_count": 152,
     "metadata": {},
     "output_type": "execute_result"
    }
   ],
   "source": [
    "biggest_odd('961839')"
   ]
  }
 ],
 "metadata": {
  "kernelspec": {
   "display_name": "Python 3 (ipykernel)",
   "language": "python",
   "name": "python3"
  },
  "language_info": {
   "codemirror_mode": {
    "name": "ipython",
    "version": 3
   },
   "file_extension": ".py",
   "mimetype": "text/x-python",
   "name": "python",
   "nbconvert_exporter": "python",
   "pygments_lexer": "ipython3",
   "version": "3.11.5"
  }
 },
 "nbformat": 4,
 "nbformat_minor": 5
}
