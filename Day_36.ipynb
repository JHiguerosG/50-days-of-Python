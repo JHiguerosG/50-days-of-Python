{
 "cells": [
  {
   "cell_type": "markdown",
   "id": "75b0f1c5-6ad7-4978-a3ff-4a469e6dbe01",
   "metadata": {},
   "source": [
    "# Day 36: Count String\n",
    "\n",
    "Write a function called **count** that takes one argument a **string**, and returns a **dictionary** of how many times each element appears in the string. For example **'hello'** should return:  \n",
    "\n",
    "**{'h':1, 'e':1, 'l':2, 'o':1}**"
   ]
  },
  {
   "cell_type": "markdown",
   "id": "2a0878c8-e36f-43d0-ae76-48573e3e0f65",
   "metadata": {},
   "source": [
    "# Día 36: Contar Cadena\n",
    "\n",
    "Escribe una función llamada **count** que tome un argumento, **una cadena**, y devuelva un **diccionario** con la cantidad de veces que cada elemento aparece en la cadena. Por ejemplo, **'hello'** debería devolver:  \n",
    "\n",
    "**{'h':1, 'e':1, 'l':2, 'o':1}**"
   ]
  },
  {
   "cell_type": "code",
   "execution_count": 7,
   "id": "38136a22-d62b-486c-977b-098240b89aef",
   "metadata": {},
   "outputs": [],
   "source": [
    "def count(string):\n",
    "    dictionary = {}\n",
    "    for char in string:\n",
    "        if char not in dictionary:\n",
    "            dictionary[char] = 1\n",
    "        else:\n",
    "            dictionary[char] += 1\n",
    "    return dictionary"
   ]
  },
  {
   "cell_type": "code",
   "execution_count": 8,
   "id": "fe9b2413-e3cc-41f8-aafe-897e3a828cb8",
   "metadata": {},
   "outputs": [
    {
     "data": {
      "text/plain": [
       "{'h': 1, 'e': 1, 'l': 2, 'o': 1}"
      ]
     },
     "execution_count": 8,
     "metadata": {},
     "output_type": "execute_result"
    }
   ],
   "source": [
    "count('hello')"
   ]
  },
  {
   "cell_type": "code",
   "execution_count": 9,
   "id": "1302db44-8d4b-4836-9c0f-24f89868b0a2",
   "metadata": {},
   "outputs": [
    {
     "data": {
      "text/plain": [
       "{'h': 1, 'e': 1, 'l': 3, 'o': 2, ' ': 1, 'w': 1, 'r': 1, 'd': 1}"
      ]
     },
     "execution_count": 9,
     "metadata": {},
     "output_type": "execute_result"
    }
   ],
   "source": [
    "count('hello world')"
   ]
  }
 ],
 "metadata": {
  "kernelspec": {
   "display_name": "Python 3 (ipykernel)",
   "language": "python",
   "name": "python3"
  },
  "language_info": {
   "codemirror_mode": {
    "name": "ipython",
    "version": 3
   },
   "file_extension": ".py",
   "mimetype": "text/x-python",
   "name": "python",
   "nbconvert_exporter": "python",
   "pygments_lexer": "ipython3",
   "version": "3.12.3"
  }
 },
 "nbformat": 4,
 "nbformat_minor": 5
}
