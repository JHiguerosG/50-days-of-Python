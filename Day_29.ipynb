{
 "cells": [
  {
   "cell_type": "markdown",
   "id": "4c506b20-5ae4-49a9-9d30-f3692d3bd2ac",
   "metadata": {},
   "source": [
    "# Day 29: Middle Figure\n",
    "\n",
    "Write a function called **middle_figure** that takes two parameters **a**, and **b**. The two parameters are strings. The function **joins** the two strings and finds the **middle element**. If the combined string has a middle element, the function should return the **element**, otherwise, return **'no middle figure'**. use **'make love** as an argument for **a** and **'not wars'** as an argument for **b**. Your function should return **'e'** as the middle element. Whitespaces should be removed."
   ]
  },
  {
   "cell_type": "markdown",
   "id": "53493a1f-378c-4ca9-a6f2-d4d3b886fa20",
   "metadata": {},
   "source": [
    "# Día 29: Figura del Medio\n",
    "\n",
    "Escribe una función llamada **middle_figure** que tome dos parámetros **a** y **b**. Ambos parámetros son cadenas de texto. La función **une** las dos cadenas y encuentra el **elemento central**. Si la cadena combinada tiene un **elemento central**, la función debe devolver ese **elemento**; de lo contrario, debe devolver **'no middle figure'**. Usa **'make love'** como argumento para **a** y **'not wars'** como argumento para **b**. Tu función debería devolver **'e'** como el elemento central. Los espacios en blanco deben ser eliminados."
   ]
  },
  {
   "cell_type": "code",
   "execution_count": 49,
   "id": "8fbc1911-0ba5-49ad-ae50-363f7a35560a",
   "metadata": {},
   "outputs": [],
   "source": [
    "def middle_figure(a, b):\n",
    "    combined = a.replace(' ', '') + b.replace(' ', '')\n",
    "    if len(combined) % 2 == 0:\n",
    "        result = 'no middle figure'\n",
    "    else:\n",
    "        result = combined[len(combined) // 2]\n",
    "    return result"
   ]
  },
  {
   "cell_type": "code",
   "execution_count": 50,
   "id": "7f2f9b5e-05f9-4f8d-84b3-610c26632928",
   "metadata": {},
   "outputs": [
    {
     "data": {
      "text/plain": [
       "'e'"
      ]
     },
     "execution_count": 50,
     "metadata": {},
     "output_type": "execute_result"
    }
   ],
   "source": [
    "middle_figure('make love', 'not wars')"
   ]
  },
  {
   "cell_type": "code",
   "execution_count": 51,
   "id": "252a0443-950c-415c-8a40-19d3f2d080b7",
   "metadata": {},
   "outputs": [
    {
     "data": {
      "text/plain": [
       "'no middle figure'"
      ]
     },
     "execution_count": 51,
     "metadata": {},
     "output_type": "execute_result"
    }
   ],
   "source": [
    "middle_figure('Hola mundo', 'I love learning')"
   ]
  }
 ],
 "metadata": {
  "kernelspec": {
   "display_name": "Python 3 (ipykernel)",
   "language": "python",
   "name": "python3"
  },
  "language_info": {
   "codemirror_mode": {
    "name": "ipython",
    "version": 3
   },
   "file_extension": ".py",
   "mimetype": "text/x-python",
   "name": "python",
   "nbconvert_exporter": "python",
   "pygments_lexer": "ipython3",
   "version": "3.12.7"
  }
 },
 "nbformat": 4,
 "nbformat_minor": 5
}
