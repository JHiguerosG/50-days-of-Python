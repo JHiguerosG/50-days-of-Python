{
 "cells": [
  {
   "cell_type": "markdown",
   "id": "77d08ec8-7dab-4cd1-952d-39f15ba1f020",
   "metadata": {},
   "source": [
    "# Day 1: Division and Square-root\n",
    "\n",
    "Write a function called **divide_or_square** that takes one argument (a number), and returns the square root of the number if it is divisible by 5, returns its remainder if it is not divisible by 5. For example, if you pass 10 as an argument, then your function should return 3.16 as the square root."
   ]
  },
  {
   "cell_type": "markdown",
   "id": "c0e9f023-dde5-454b-adec-1e9dc1dc9181",
   "metadata": {},
   "source": [
    "# Día 1: División y Raíz cuadrada\n",
    "\n",
    "Escribe una función llamada **divide_or_square** que tome un argumento (un número) y devuelva la raíz cuadrada del número si es divisible por 5. Si no es divisible por 5, la función debe devolver su residuo. Por ejemplo, si pasas 10 como argumento, la función debería devolver 3.16 como la raíz cuadrada."
   ]
  },
  {
   "cell_type": "code",
   "execution_count": 37,
   "id": "6bdfec4e-235d-4c51-9e62-b8995ffc4073",
   "metadata": {},
   "outputs": [],
   "source": [
    "def divide_or_square(number):\n",
    "    if number % 5 == 0:\n",
    "        result = number ** (1/2)\n",
    "    else:\n",
    "        result = number / 5\n",
    "    return result"
   ]
  },
  {
   "cell_type": "code",
   "execution_count": 39,
   "id": "9c1d4b7e-e929-4fee-aa64-799a57f3a7db",
   "metadata": {},
   "outputs": [
    {
     "data": {
      "text/plain": [
       "3.1622776601683795"
      ]
     },
     "execution_count": 39,
     "metadata": {},
     "output_type": "execute_result"
    }
   ],
   "source": [
    "divide_or_square(10)"
   ]
  },
  {
   "cell_type": "code",
   "execution_count": 42,
   "id": "81d05623-47c1-407e-8918-7a0d31cc0b50",
   "metadata": {},
   "outputs": [
    {
     "data": {
      "text/plain": [
       "0.6"
      ]
     },
     "execution_count": 42,
     "metadata": {},
     "output_type": "execute_result"
    }
   ],
   "source": [
    "divide_or_square(3)"
   ]
  }
 ],
 "metadata": {
  "kernelspec": {
   "display_name": "Python 3 (ipykernel)",
   "language": "python",
   "name": "python3"
  },
  "language_info": {
   "codemirror_mode": {
    "name": "ipython",
    "version": 3
   },
   "file_extension": ".py",
   "mimetype": "text/x-python",
   "name": "python",
   "nbconvert_exporter": "python",
   "pygments_lexer": "ipython3",
   "version": "3.11.5"
  }
 },
 "nbformat": 4,
 "nbformat_minor": 5
}
