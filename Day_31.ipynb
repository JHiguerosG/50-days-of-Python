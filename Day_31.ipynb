{
 "cells": [
  {
   "cell_type": "markdown",
   "id": "378ad4c5-088e-4c39-9238-11a74e7354e2",
   "metadata": {},
   "source": [
    "# Day 31: Longest Word\n",
    "\n",
    "Write a function that has one parameter and takes a list of words as an argument. The function returns the longest word from the list. Name de function **longest_word**. The function should return the longest word and the number of letters in that word. For example, if you pass **['Java', 'JavaScript', 'Python']**, your function should return:\n",
    "\n",
    "**[10, JavaScript]** as the longest word."
   ]
  },
  {
   "cell_type": "markdown",
   "id": "e2004cc4-959a-47e0-bb95-14b6458ad43c",
   "metadata": {},
   "source": [
    "# Día 31: Palabra Más Larga\n",
    "\n",
    "Escribe una función que tenga un parámetro y tome una lista de palabras como argumento. La función debe devolver la palabra más larga de la lista. Nombra la función **longest_word**. La función debe devolver la palabra más larga y el número de letras en esa palabra. Por ejemplo, si pasas **['Java', 'JavaScript', 'Python']**, tu función debería devolver:\n",
    "\n",
    "**[10, JavaScript]** como la palabra más larga."
   ]
  },
  {
   "cell_type": "markdown",
   "id": "b75d3893-4cc9-4b21-b9a4-f181a3be295e",
   "metadata": {},
   "source": [
    "## Version 1"
   ]
  },
  {
   "cell_type": "code",
   "execution_count": 17,
   "id": "7bb56f77-6b9f-462e-a75c-e7400baca017",
   "metadata": {},
   "outputs": [],
   "source": [
    "def longest_word(list_of_words):\n",
    "    longest = ''\n",
    "    for word in list_of_words:\n",
    "        if len(word) > len(longest):\n",
    "            longest = word\n",
    "        \n",
    "    print(f'[{len(longest)}, {longest}] como la palabra más larga')"
   ]
  },
  {
   "cell_type": "code",
   "execution_count": 18,
   "id": "10a12bbc-ee12-4434-a3c4-746ce9aad74a",
   "metadata": {},
   "outputs": [
    {
     "name": "stdout",
     "output_type": "stream",
     "text": [
      "[10, JavaScript] como la palabra más larga\n"
     ]
    }
   ],
   "source": [
    "longest_word(['Java', 'JavaScript', 'Python'])"
   ]
  },
  {
   "cell_type": "code",
   "execution_count": 19,
   "id": "44dea47e-0726-4da4-89ce-609a477e8bd9",
   "metadata": {},
   "outputs": [
    {
     "name": "stdout",
     "output_type": "stream",
     "text": [
      "[11, Albuquerque] como la palabra más larga\n"
     ]
    }
   ],
   "source": [
    "longest_word(['Albuquerque', 'New Orleans', 'Kansas City'])"
   ]
  },
  {
   "cell_type": "code",
   "execution_count": 22,
   "id": "81ad5d7a-c8a1-4ce9-aa72-de11f0cc381d",
   "metadata": {},
   "outputs": [
    {
     "name": "stdout",
     "output_type": "stream",
     "text": [
      "[11, Albuquerque] como la palabra más larga\n"
     ]
    }
   ],
   "source": [
    "longest_word(['Albuquerque', 'Albuqierque', 'Albpquerque'])"
   ]
  },
  {
   "cell_type": "markdown",
   "id": "b4f1e4ec-6225-479b-808f-4eecbf97adb2",
   "metadata": {},
   "source": [
    "## Version 2"
   ]
  },
  {
   "cell_type": "code",
   "execution_count": 27,
   "id": "16d9d606-0ff3-4008-8ada-be3379f3018a",
   "metadata": {},
   "outputs": [],
   "source": [
    "def longest_words(list_of_words):\n",
    "    longest = []\n",
    "    max_length = 0\n",
    "    \n",
    "    for word in list_of_words:\n",
    "        if len(word) > max_length:\n",
    "            longest = [word]\n",
    "            max_length = len(word)\n",
    "        elif len(word) == max_length:\n",
    "            longest.append(word)\n",
    "    \n",
    "    print(f'[{max_length}, {longest}] como las palabras más largas')"
   ]
  },
  {
   "cell_type": "code",
   "execution_count": 28,
   "id": "b2949e8d-d216-4aa6-b455-cb37b5cf8298",
   "metadata": {},
   "outputs": [
    {
     "name": "stdout",
     "output_type": "stream",
     "text": [
      "[10, ['JavaScript']] como las palabras más largas\n"
     ]
    }
   ],
   "source": [
    "longest_words(['Java', 'JavaScript', 'Python', 'HTML'])"
   ]
  },
  {
   "cell_type": "code",
   "execution_count": 29,
   "id": "79361df2-7f9d-4cae-b600-e427c012f6f0",
   "metadata": {},
   "outputs": [
    {
     "name": "stdout",
     "output_type": "stream",
     "text": [
      "[10, ['JavaScript', '0123456789']] como las palabras más largas\n"
     ]
    }
   ],
   "source": [
    "longest_words(['Java', 'JavaScript', 'Python', 'HTML', '0123456789'])"
   ]
  }
 ],
 "metadata": {
  "kernelspec": {
   "display_name": "Python 3 (ipykernel)",
   "language": "python",
   "name": "python3"
  },
  "language_info": {
   "codemirror_mode": {
    "name": "ipython",
    "version": 3
   },
   "file_extension": ".py",
   "mimetype": "text/x-python",
   "name": "python",
   "nbconvert_exporter": "python",
   "pygments_lexer": "ipython3",
   "version": "3.12.7"
  }
 },
 "nbformat": 4,
 "nbformat_minor": 5
}
