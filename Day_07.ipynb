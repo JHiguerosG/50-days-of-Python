{
 "cells": [
  {
   "cell_type": "markdown",
   "id": "03ba574d-ea6c-476b-ba86-83f786a2b70a",
   "metadata": {},
   "source": [
    "# Day 7: A String Range\n",
    "\n",
    "Write a function called **string_range** that takes a single number and returns a string of its range. The string characters should be **separated by dots(.)** For example, if you pass 6 as an argument, your function should return **'0, 1, 2, 3, 4, 5'**."
   ]
  },
  {
   "cell_type": "markdown",
   "id": "ca5e539f-2e08-42f5-9b8e-373f1017aaa6",
   "metadata": {},
   "source": [
    "## Día 7: Un Rango de Cadenas\n",
    "\n",
    "Escribe una función llamada **string_range** que tome un solo número y devuelva una cadena con su rango. Los caracteres de la cadena deben estar **separados por puntos (.)**. Por ejemplo, si pasas **6** como argumento, tu función debería devolver **'0.1.2.3.4.5'**."
   ]
  },
  {
   "cell_type": "code",
   "execution_count": 66,
   "id": "ca256c12-4975-465e-a775-7d3db9fbf741",
   "metadata": {},
   "outputs": [],
   "source": [
    "def string_range(number):\n",
    "    list_range = []\n",
    "    for i in range(number):\n",
    "        list_range.append(str(i))\n",
    "    return '.'.join(list_range)"
   ]
  },
  {
   "cell_type": "code",
   "execution_count": 70,
   "id": "b036667f-e52a-4305-a010-bb3097081d8b",
   "metadata": {},
   "outputs": [
    {
     "data": {
      "text/plain": [
       "'0.1.2.3.4.5'"
      ]
     },
     "execution_count": 70,
     "metadata": {},
     "output_type": "execute_result"
    }
   ],
   "source": [
    "string_range(6)"
   ]
  },
  {
   "cell_type": "code",
   "execution_count": 72,
   "id": "bd52f6e2-2b54-4d50-9204-911d28d650c6",
   "metadata": {},
   "outputs": [
    {
     "data": {
      "text/plain": [
       "'0.1.2.3.4.5.6.7.8.9.10.11.12.13.14'"
      ]
     },
     "execution_count": 72,
     "metadata": {},
     "output_type": "execute_result"
    }
   ],
   "source": [
    "string_range(15)"
   ]
  },
  {
   "cell_type": "code",
   "execution_count": 76,
   "id": "b3ec59a7-9c09-4027-95ae-6071b4f45341",
   "metadata": {},
   "outputs": [
    {
     "data": {
      "text/plain": [
       "'0.1.2.3.4.5.6.7'"
      ]
     },
     "execution_count": 76,
     "metadata": {},
     "output_type": "execute_result"
    }
   ],
   "source": [
    "string_range(8)"
   ]
  }
 ],
 "metadata": {
  "kernelspec": {
   "display_name": "Python 3 (ipykernel)",
   "language": "python",
   "name": "python3"
  },
  "language_info": {
   "codemirror_mode": {
    "name": "ipython",
    "version": 3
   },
   "file_extension": ".py",
   "mimetype": "text/x-python",
   "name": "python",
   "nbconvert_exporter": "python",
   "pygments_lexer": "ipython3",
   "version": "3.11.5"
  }
 },
 "nbformat": 4,
 "nbformat_minor": 5
}
