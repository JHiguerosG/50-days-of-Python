{
 "cells": [
  {
   "cell_type": "markdown",
   "id": "3f248a52-864f-4a75-b624-89b473c5d174",
   "metadata": {},
   "source": [
    "# Day 24: Average Calories\n",
    "\n",
    "Create a function called **average_calories** that calculates the average calories intake of a user. The function should ask the user to input their calories intake for **any** number of days and once they hit **'done'** it should calculate and **return** the average intake."
   ]
  },
  {
   "cell_type": "markdown",
   "id": "b54b6827-5fae-4a13-ac4f-275f4f3aeafd",
   "metadata": {},
   "source": [
    "# Día 24: Promedio de Calorías\n",
    "\n",
    "Crea una función llamada **average_calories** que calcule el consumo promedio de calorías de un usuario. La función debe pedir al usuario que ingrese su consumo de calorías durante **cualquier** cantidad de días y, una vez que escriba **'done'**, debe calcular y **devolver** el consumo promedio."
   ]
  },
  {
   "cell_type": "code",
   "execution_count": 19,
   "id": "3c97e650-2731-4ee8-8ed4-ae23de72222c",
   "metadata": {},
   "outputs": [],
   "source": [
    "def average_calories():\n",
    "    total_calories = 0\n",
    "    num_days = 0\n",
    "\n",
    "    while True:\n",
    "        intake = input(\"Enter calories for the day (or type 'done' to finish): \")\n",
    "        if intake.lower() == 'done':\n",
    "            break\n",
    "        try:\n",
    "            calories = float(intake)\n",
    "            total_calories += calories\n",
    "            num_days += 1\n",
    "        except ValueError:\n",
    "            print(\"Please enter a valid number or 'done' to finish.\")\n",
    "\n",
    "    if num_days == 0:\n",
    "        return \"No data to calculate average.\"\n",
    "\n",
    "    average = total_calories / num_days\n",
    "    print(f\"The average calorie intake is: {average}\")"
   ]
  },
  {
   "cell_type": "code",
   "execution_count": 21,
   "id": "3bf7a66b-2df4-4c4d-bbe9-4846700cfa66",
   "metadata": {},
   "outputs": [
    {
     "name": "stdin",
     "output_type": "stream",
     "text": [
      "Enter calories for the day (or type 'done' to finish):  2500\n",
      "Enter calories for the day (or type 'done' to finish):  3000\n",
      "Enter calories for the day (or type 'done' to finish):  4500\n",
      "Enter calories for the day (or type 'done' to finish):  5000\n",
      "Enter calories for the day (or type 'done' to finish):  1900\n",
      "Enter calories for the day (or type 'done' to finish):  2000\n",
      "Enter calories for the day (or type 'done' to finish):  done\n"
     ]
    },
    {
     "name": "stdout",
     "output_type": "stream",
     "text": [
      "The average calorie intake is: 3150.0\n"
     ]
    }
   ],
   "source": [
    "average_calories()"
   ]
  }
 ],
 "metadata": {
  "kernelspec": {
   "display_name": "Python 3 (ipykernel)",
   "language": "python",
   "name": "python3"
  },
  "language_info": {
   "codemirror_mode": {
    "name": "ipython",
    "version": 3
   },
   "file_extension": ".py",
   "mimetype": "text/x-python",
   "name": "python",
   "nbconvert_exporter": "python",
   "pygments_lexer": "ipython3",
   "version": "3.12.7"
  }
 },
 "nbformat": 4,
 "nbformat_minor": 5
}
