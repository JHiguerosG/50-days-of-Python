{
 "cells": [
  {
   "cell_type": "markdown",
   "id": "bd1b6bfe-3e16-431e-9dad-207d944a49de",
   "metadata": {},
   "source": [
    "# Day 17: User Name Generator\n",
    "\n",
    "Write a function called **user_name**, that creates a username for the user. The function should ask a user to **input** their name. The function should then reverse the name and attach a randomly issued number between 0 - 9 at the end of the name. The function should return the **username**."
   ]
  },
  {
   "cell_type": "markdown",
   "id": "485c2868-d914-45fb-85f1-31ef04c10ba3",
   "metadata": {},
   "source": [
    "# Día 17: Generador de Nombre de Usuario\n",
    "\n",
    "Escribe una función llamada **user_name** que cree un nombre de usuario para el usuario. La función debe pedir al usuario que **ingrese** su nombre. Luego, la función debe invertir el nombre y adjuntar un número aleatorio entre 0 y 9 al final del nombre. La función debe devolver el **nombre de usuario**."
   ]
  },
  {
   "cell_type": "code",
   "execution_count": 18,
   "id": "45696c97-ae10-4665-bf63-107818e86752",
   "metadata": {},
   "outputs": [],
   "source": [
    "import random\n",
    "\n",
    "def user_name():\n",
    "    username = ''\n",
    "    name = input('Please enter your username: ').lower()\n",
    "    for letter in name[::-1]:\n",
    "        if letter == ' ':\n",
    "            username += '_'\n",
    "        else:\n",
    "            username += letter\n",
    "    username += str(random.randint(3, 9))\n",
    "    return username"
   ]
  },
  {
   "cell_type": "code",
   "execution_count": 23,
   "id": "c5c63c95-128a-440e-8a96-474fa1d650b7",
   "metadata": {},
   "outputs": [
    {
     "name": "stdin",
     "output_type": "stream",
     "text": [
      "Please enter your username:  Michael\n"
     ]
    },
    {
     "data": {
      "text/plain": [
       "'leahcim7'"
      ]
     },
     "execution_count": 23,
     "metadata": {},
     "output_type": "execute_result"
    }
   ],
   "source": [
    "user_name()"
   ]
  },
  {
   "cell_type": "code",
   "execution_count": 24,
   "id": "dc68f9dd-29a3-4555-b282-0837e1354a59",
   "metadata": {},
   "outputs": [
    {
     "name": "stdin",
     "output_type": "stream",
     "text": [
      "Please enter your username:  Jonathan Higueros\n"
     ]
    },
    {
     "data": {
      "text/plain": [
       "'soreugih_nahtanoj3'"
      ]
     },
     "execution_count": 24,
     "metadata": {},
     "output_type": "execute_result"
    }
   ],
   "source": [
    "user_name()"
   ]
  },
  {
   "cell_type": "code",
   "execution_count": 25,
   "id": "90232000-1b21-4aa4-8340-347550ec6f90",
   "metadata": {},
   "outputs": [
    {
     "name": "stdin",
     "output_type": "stream",
     "text": [
      "Please enter your username:  Nely Morales\n"
     ]
    },
    {
     "data": {
      "text/plain": [
       "'selarom_ylen6'"
      ]
     },
     "execution_count": 25,
     "metadata": {},
     "output_type": "execute_result"
    }
   ],
   "source": [
    "user_name()"
   ]
  }
 ],
 "metadata": {
  "kernelspec": {
   "display_name": "Python 3 (ipykernel)",
   "language": "python",
   "name": "python3"
  },
  "language_info": {
   "codemirror_mode": {
    "name": "ipython",
    "version": 3
   },
   "file_extension": ".py",
   "mimetype": "text/x-python",
   "name": "python",
   "nbconvert_exporter": "python",
   "pygments_lexer": "ipython3",
   "version": "3.12.7"
  }
 },
 "nbformat": 4,
 "nbformat_minor": 5
}
