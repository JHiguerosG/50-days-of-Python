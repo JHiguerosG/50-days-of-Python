{
 "cells": [
  {
   "cell_type": "markdown",
   "id": "920ac374-6cc7-4cd6-980f-6477897e667f",
   "metadata": {},
   "source": [
    "# Day 13: Pay Your Tax\n",
    "\n",
    "Write a function called **your_vat**. The function takes no parameter. The function asks the user to input the price of an item and VAT (vat should be a percentage). The function should return the price of the item plus VAT. If the price is 220 and, VAT is 15% your code should return a vat inclusive price of 253. Make sure that your code can handle **ValueError**. Ensure the code runs untill valid numbers are entered. (hint: Your code should include a while loop)."
   ]
  },
  {
   "cell_type": "markdown",
   "id": "30f17064-5a30-47a5-b4f7-1ed0a9dadffb",
   "metadata": {},
   "source": [
    "## Día 13: Paga tu impuesto\n",
    "\n",
    "Escribe una función llamada **your_vat**. La función no recibe parámetros. La función solicita al usuario que ingrese el precio de un artículo y el IVA (que debe ser un porcentaje). La función debe devolver el precio del artículo más el IVA. Si el precio es 220 y el IVA es del 15 %, tu código debe devolver un precio con IVA incluido de 253. Asegúrate de que tu código pueda manejar **ValueError**. Además, el código debe ejecutarse hasta que se ingresen números válidos. (Pista: tu código debe incluir un bucle while)."
   ]
  },
  {
   "cell_type": "code",
   "execution_count": 27,
   "id": "3cefe8ea-458b-4073-a2a3-1d044cc8e8be",
   "metadata": {},
   "outputs": [],
   "source": [
    "def your_vat():\n",
    "    while True:\n",
    "        try:\n",
    "            price = float(input('Please enter the price of the item: '))\n",
    "            vat = float(input('Please enter the value for the VAT percentage: '))\n",
    "            break\n",
    "        except ValueError:\n",
    "            print('Invalid input. Please enter a number, try again.')\n",
    "    vat_amount = (vat / 100) * price\n",
    "    total_price = price + vat_amount\n",
    "    return f\"The total price including VAT is: {total_price}\""
   ]
  },
  {
   "cell_type": "code",
   "execution_count": 28,
   "id": "1d7c7e5d-3627-4a98-bf1c-3437eaf65eca",
   "metadata": {},
   "outputs": [
    {
     "name": "stdin",
     "output_type": "stream",
     "text": [
      "Please enter the price of the item:  220\n",
      "Please enter the value for the VAT percentage:  15\n"
     ]
    },
    {
     "data": {
      "text/plain": [
       "'The total price including VAT is: 253.0'"
      ]
     },
     "execution_count": 28,
     "metadata": {},
     "output_type": "execute_result"
    }
   ],
   "source": [
    "your_vat()"
   ]
  }
 ],
 "metadata": {
  "kernelspec": {
   "display_name": "Python 3 (ipykernel)",
   "language": "python",
   "name": "python3"
  },
  "language_info": {
   "codemirror_mode": {
    "name": "ipython",
    "version": 3
   },
   "file_extension": ".py",
   "mimetype": "text/x-python",
   "name": "python",
   "nbconvert_exporter": "python",
   "pygments_lexer": "ipython3",
   "version": "3.12.8"
  }
 },
 "nbformat": 4,
 "nbformat_minor": 5
}
