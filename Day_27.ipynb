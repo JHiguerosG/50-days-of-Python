{
 "cells": [
  {
   "cell_type": "markdown",
   "id": "e90563e1-f11c-45e7-9704-706c5c633be7",
   "metadata": {},
   "source": [
    "# Day 27: Unique Numbers\n",
    "Write a function called **unique_numbers** that takes a list of numbers as an argument. Your function is going to find all the unique numbers in the list. It will then sum up the unique numbers. You will calculate the difference between the **sum of all the numbers in the original list** and the **sum of unique numbers in the list**. If the difference is an **even** number, your function should return the **original list**. If the difference is an **odd** number, your function should return a **list with unique numbers only**. For example **[1, 2, 4, 5, 6, 7, 8, 8]** should return **[1, 2, 4, 5, 6, 7, 8, 8]**."
   ]
  },
  {
   "cell_type": "markdown",
   "id": "fa753ce6-4391-4893-9da5-e54602895e84",
   "metadata": {},
   "source": [
    "# Día 27: Números Únicos\n",
    "\n",
    "Escribe una función llamada **unique_numbers** que tome una lista de números como argumento. Tu función encontrará todos los números únicos en la lista. Luego sumará los números únicos. Calcularás la diferencia entre **la suma de todos los números en la lista original** y **la suma de los números únicos en la lista**. Si la diferencia es un número **par**, tu función debe devolver la **lista original**. Si la diferencia es un número **impar**, tu función debe devolver **una lista con solo números únicos**. Por ejemplo, **[1, 2, 4, 5, 6, 7, 8, 8]** debería devolver **[1, 2, 4, 5, 6, 7, 8, 8]**."
   ]
  },
  {
   "cell_type": "code",
   "execution_count": 17,
   "id": "72c1f193-9d8f-4f63-9205-000dbfd4cf81",
   "metadata": {},
   "outputs": [],
   "source": [
    "def unique_numbers(list_of_numbers):\n",
    "    original_list_sum = sum(list_of_numbers)\n",
    "    unique_num_sum = sum(set(list_of_numbers))\n",
    "    difference = original_list_sum - unique_num_sum\n",
    "    if difference % 2 == 0:\n",
    "        output_list = list_of_numbers\n",
    "    else:\n",
    "        output_list = list(set(list_of_numbers))\n",
    "    return output_list"
   ]
  },
  {
   "cell_type": "code",
   "execution_count": 18,
   "id": "fa0f8bdb-6a69-4f67-94e7-9dbbde104efd",
   "metadata": {},
   "outputs": [
    {
     "data": {
      "text/plain": [
       "[1, 2, 4, 5, 6, 7, 8, 8]"
      ]
     },
     "execution_count": 18,
     "metadata": {},
     "output_type": "execute_result"
    }
   ],
   "source": [
    "unique_numbers([1, 2, 4, 5, 6, 7, 8, 8,])"
   ]
  },
  {
   "cell_type": "code",
   "execution_count": 19,
   "id": "af5323a8-8ffe-405d-9e67-32fa0f58a383",
   "metadata": {},
   "outputs": [
    {
     "data": {
      "text/plain": [
       "[1, 2, 4, 5, 6, 7, 8]"
      ]
     },
     "execution_count": 19,
     "metadata": {},
     "output_type": "execute_result"
    }
   ],
   "source": [
    "unique_numbers([1, 2, 4, 5, 6, 7, 8, 8, 1])"
   ]
  }
 ],
 "metadata": {
  "kernelspec": {
   "display_name": "Python 3 (ipykernel)",
   "language": "python",
   "name": "python3"
  },
  "language_info": {
   "codemirror_mode": {
    "name": "ipython",
    "version": 3
   },
   "file_extension": ".py",
   "mimetype": "text/x-python",
   "name": "python",
   "nbconvert_exporter": "python",
   "pygments_lexer": "ipython3",
   "version": "3.12.7"
  }
 },
 "nbformat": 4,
 "nbformat_minor": 5
}
