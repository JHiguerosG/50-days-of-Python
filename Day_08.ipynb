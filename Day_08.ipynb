{
 "cells": [
  {
   "cell_type": "markdown",
   "id": "66b96b33-4e88-495f-b285-4aed230c2ae8",
   "metadata": {},
   "source": [
    "# Day 8: Odd and Even\n",
    "\n",
    "Write a function called **odd_even** that has one parameter and takes a list of numbers as an argument. The function returns the difference between the largest **even** number in the list and the smallest **odd** number in the list. For example, if you pass **[1,2,4,6]** as an argument the function should return **6-1=5**."
   ]
  },
  {
   "cell_type": "markdown",
   "id": "04a5c506-1095-480c-a64d-67fe82a2761e",
   "metadata": {},
   "source": [
    "# Día 8: Números Pares e Impares\n",
    "\n",
    "Escribe una función llamada **odd_even** que tenga un parámetro y tome una lista de números como argumento. La función debe devolver la diferencia entre el número **par** más grande de la lista y el número **impar** más pequeño de la lista. Por ejemplo, si pasas **[1,2,4,6]** como argumento, la función debería devolver **6-1=5**."
   ]
  },
  {
   "cell_type": "code",
   "execution_count": 82,
   "id": "76b5aebd-5c56-4415-93fc-d7ceeb9e79de",
   "metadata": {},
   "outputs": [],
   "source": [
    "def odd_even(list_arguments):\n",
    "    even = []\n",
    "    odd = []\n",
    "    for i in list_arguments:\n",
    "        if i % 2 == 0:\n",
    "            even.append(i)\n",
    "        else:\n",
    "            odd.append(i)\n",
    "    print(f'{max(even)}-{min(odd)}={max(even)-min(odd)}')"
   ]
  },
  {
   "cell_type": "code",
   "execution_count": 84,
   "id": "8aacd1d8-92c2-4113-b400-1234b0d1b093",
   "metadata": {},
   "outputs": [
    {
     "name": "stdout",
     "output_type": "stream",
     "text": [
      "6-1=5\n"
     ]
    }
   ],
   "source": [
    "args = [1,2,4,6]\n",
    "odd_even(args)"
   ]
  },
  {
   "cell_type": "code",
   "execution_count": 86,
   "id": "3ae3b4f5-f577-492f-93c1-ad725b2d3208",
   "metadata": {},
   "outputs": [
    {
     "name": "stdout",
     "output_type": "stream",
     "text": [
      "24-3=21\n"
     ]
    }
   ],
   "source": [
    "args = [10,11,45,9,3,6,24]\n",
    "odd_even(args)"
   ]
  }
 ],
 "metadata": {
  "kernelspec": {
   "display_name": "Python 3 (ipykernel)",
   "language": "python",
   "name": "python3"
  },
  "language_info": {
   "codemirror_mode": {
    "name": "ipython",
    "version": 3
   },
   "file_extension": ".py",
   "mimetype": "text/x-python",
   "name": "python",
   "nbconvert_exporter": "python",
   "pygments_lexer": "ipython3",
   "version": "3.11.5"
  }
 },
 "nbformat": 4,
 "nbformat_minor": 5
}
