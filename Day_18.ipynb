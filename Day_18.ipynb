{
 "cells": [
  {
   "cell_type": "markdown",
   "id": "4f0c0e65-a469-4d80-9a2d-54b87dc08a3d",
   "metadata": {},
   "source": [
    "# Day 18: Any Number of Arguments\n",
    "\n",
    "Write a function called **any_number** that can receive any number of arguments (integers and floats) and return the average of those integers. if you pass **12, 90, 12, 34** as arguments your function should return **37.0** as average. If you pass **12, 90** your function should return **51.0** as average."
   ]
  },
  {
   "cell_type": "markdown",
   "id": "a6999f52-e5bc-4fea-99bb-5c2c22f7cb9b",
   "metadata": {},
   "source": [
    "# Día 18: Cualquier Número de Argumentos\n",
    "\n",
    "Escribe una función llamada **any_number** que pueda recibir cualquier cantidad de argumentos (enteros y flotantes) y devolver el promedio de esos enteros. Si pasas **12, 90, 12, 34** como argumentos, tu función debería devolver **37.0** como promedio. Si pasas **12, 90**, tu función debería devolver **51.0** como promedio."
   ]
  },
  {
   "cell_type": "code",
   "execution_count": 16,
   "id": "b4df1b7b-b039-48b8-90e6-89b43c3ca0db",
   "metadata": {},
   "outputs": [],
   "source": [
    "def any_number(*list_of_numbers):\n",
    "    average = sum(list_of_numbers) / len(list_of_numbers)\n",
    "    return round(average, 1)"
   ]
  },
  {
   "cell_type": "code",
   "execution_count": 17,
   "id": "7f5b1419-a70e-4e5c-a855-442062bd7605",
   "metadata": {},
   "outputs": [
    {
     "data": {
      "text/plain": [
       "37.0"
      ]
     },
     "execution_count": 17,
     "metadata": {},
     "output_type": "execute_result"
    }
   ],
   "source": [
    "any_number(12,90,12,34)"
   ]
  },
  {
   "cell_type": "code",
   "execution_count": 18,
   "id": "a082a955-697c-4208-8cb2-470d760871ce",
   "metadata": {},
   "outputs": [
    {
     "data": {
      "text/plain": [
       "51.0"
      ]
     },
     "execution_count": 18,
     "metadata": {},
     "output_type": "execute_result"
    }
   ],
   "source": [
    "any_number(12,90)"
   ]
  },
  {
   "cell_type": "code",
   "execution_count": 19,
   "id": "f410f6cc-1f17-4761-8beb-0164a960c8af",
   "metadata": {},
   "outputs": [
    {
     "data": {
      "text/plain": [
       "32.7"
      ]
     },
     "execution_count": 19,
     "metadata": {},
     "output_type": "execute_result"
    }
   ],
   "source": [
    "any_number(20.1,90.8,12.7,7)"
   ]
  }
 ],
 "metadata": {
  "kernelspec": {
   "display_name": "Python 3 (ipykernel)",
   "language": "python",
   "name": "python3"
  },
  "language_info": {
   "codemirror_mode": {
    "name": "ipython",
    "version": 3
   },
   "file_extension": ".py",
   "mimetype": "text/x-python",
   "name": "python",
   "nbconvert_exporter": "python",
   "pygments_lexer": "ipython3",
   "version": "3.12.7"
  }
 },
 "nbformat": 4,
 "nbformat_minor": 5
}
