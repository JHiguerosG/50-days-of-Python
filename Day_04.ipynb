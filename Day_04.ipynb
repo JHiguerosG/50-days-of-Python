{
 "cells": [
  {
   "cell_type": "markdown",
   "id": "1882726c-1515-4217-b431-3437d244b638",
   "metadata": {},
   "source": [
    "# Day 4: Only Floats\n",
    "\n",
    "Write a function called **only_floats**, which takes two parameters **a** and **b**, and returns **2** if both arguments are floats, returns **1** if only one argument is a float, and returns **0** if neither argument is a float. If you pass (12.1, 23) as an argument, your function should return a 1."
   ]
  },
  {
   "cell_type": "markdown",
   "id": "2a263589-be73-45cc-b8d9-9b60425ac7d6",
   "metadata": {},
   "source": [
    "# Día 4: Solo Flotantes\n",
    "Escribe una función llamada **only_floats**, que tome dos parámetros **a** y **b**, y devuelva **2** si ambos argumentos son flotantes, **1** si solo uno de los argumentos es flotante, y **0** si ninguno de los argumentos es flotante.\n",
    "\n",
    "Si pasas (12.1, 23) como argumento, tu función debería devolver 1."
   ]
  },
  {
   "cell_type": "code",
   "execution_count": 204,
   "id": "5b91eeee-68f7-4424-bdd4-e6969fb47957",
   "metadata": {},
   "outputs": [],
   "source": [
    "def only_floats(x, y):\n",
    "    if isinstance(x, float) and isinstance(y, float):\n",
    "        print(\"2: ambos parámetros son flotantes\")\n",
    "    elif isinstance(x, int) and isinstance(y, int):\n",
    "        print(\"0: ninguno de los parámetros es flotante\")\n",
    "    else:\n",
    "        print(\"1: solo uno de los parámetros es flotante\")"
   ]
  },
  {
   "cell_type": "code",
   "execution_count": 208,
   "id": "eeb12303-470c-45a2-8ecc-5704408cc0b1",
   "metadata": {},
   "outputs": [
    {
     "name": "stdout",
     "output_type": "stream",
     "text": [
      "2: ambos parámetros son flotantes\n"
     ]
    }
   ],
   "source": [
    "only_floats(5.8, 71.0)"
   ]
  },
  {
   "cell_type": "code",
   "execution_count": 206,
   "id": "71d09d15-ff0c-4b77-9519-9e16cb121c43",
   "metadata": {},
   "outputs": [
    {
     "name": "stdout",
     "output_type": "stream",
     "text": [
      "1: solo uno de los parámetros es flotante\n"
     ]
    }
   ],
   "source": [
    "only_floats(12.1, 23)"
   ]
  },
  {
   "cell_type": "code",
   "execution_count": 210,
   "id": "340fdcb1-f6aa-41ec-a373-5fce8f8f9e49",
   "metadata": {},
   "outputs": [
    {
     "name": "stdout",
     "output_type": "stream",
     "text": [
      "1: solo uno de los parámetros es flotante\n"
     ]
    }
   ],
   "source": [
    "only_floats(1, 0.2)"
   ]
  },
  {
   "cell_type": "code",
   "execution_count": 212,
   "id": "1c9f2d5f-552c-4d4b-859d-61018ad21f85",
   "metadata": {},
   "outputs": [
    {
     "name": "stdout",
     "output_type": "stream",
     "text": [
      "0: ninguno de los parámetros es flotante\n"
     ]
    }
   ],
   "source": [
    "only_floats(5, 10)"
   ]
  }
 ],
 "metadata": {
  "kernelspec": {
   "display_name": "Python 3 (ipykernel)",
   "language": "python",
   "name": "python3"
  },
  "language_info": {
   "codemirror_mode": {
    "name": "ipython",
    "version": 3
   },
   "file_extension": ".py",
   "mimetype": "text/x-python",
   "name": "python",
   "nbconvert_exporter": "python",
   "pygments_lexer": "ipython3",
   "version": "3.11.5"
  }
 },
 "nbformat": 4,
 "nbformat_minor": 5
}
