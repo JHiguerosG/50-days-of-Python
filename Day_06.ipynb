{
 "cells": [
  {
   "cell_type": "markdown",
   "id": "e43226c2-4ef7-4e75-a50b-c07f945c6ebd",
   "metadata": {},
   "source": [
    "# Day 6: User Name Generator\n",
    "\n",
    "Write a function called **user_name** that generates a username from the user's email. The code should ask the user to input an email and the code should return everything before the **@** sign as their user name. For example, if someone enters **ben@gmail.com**, the code should return ben as ther user name."
   ]
  },
  {
   "cell_type": "markdown",
   "id": "a2afdabc-68b4-4efa-b2c9-587a1561c689",
   "metadata": {},
   "source": [
    "# Día 6: Generador de Nombre de Usuario\n",
    "\n",
    "Escribe una función llamada **user_name** que genere un nombre de usuario a partir del correo electrónico del usuario. El código debe solicitar al usuario que ingrese un correo electrónico y debe devolver todo lo que esté antes del signo **@** como su nombre de usuario. Por ejemplo, si alguien ingresa **ben@gmail.com**, el código debería devolver ben como su nombre de usuario."
   ]
  },
  {
   "cell_type": "code",
   "execution_count": 22,
   "id": "6a7c7cf6-c4dc-481d-8bee-94612a49f6a2",
   "metadata": {},
   "outputs": [],
   "source": [
    "def user_name():\n",
    "    email = input('Please enter your email address.')\n",
    "    u_name = ''\n",
    "    for i in email:\n",
    "        if i != '@':\n",
    "            u_name += i\n",
    "        else:\n",
    "            break\n",
    "    return f'The assigned username is: {u_name}'"
   ]
  },
  {
   "cell_type": "code",
   "execution_count": 24,
   "id": "49811a0d-72ea-45f5-acf8-4427a53e4c23",
   "metadata": {},
   "outputs": [
    {
     "name": "stdin",
     "output_type": "stream",
     "text": [
      "Please enter your email address. ben@gmail.com\n"
     ]
    },
    {
     "data": {
      "text/plain": [
       "'The assigned username is: ben'"
      ]
     },
     "execution_count": 24,
     "metadata": {},
     "output_type": "execute_result"
    }
   ],
   "source": [
    "user_name()"
   ]
  },
  {
   "cell_type": "code",
   "execution_count": 26,
   "id": "fbcdb3d1-6264-4329-8ded-dfb19c517f8c",
   "metadata": {},
   "outputs": [
    {
     "name": "stdin",
     "output_type": "stream",
     "text": [
      "Please enter your email address. nely.morales@hotmail.com\n"
     ]
    },
    {
     "data": {
      "text/plain": [
       "'The assigned username is: nely.morales'"
      ]
     },
     "execution_count": 26,
     "metadata": {},
     "output_type": "execute_result"
    }
   ],
   "source": [
    "user_name()"
   ]
  },
  {
   "cell_type": "code",
   "execution_count": 28,
   "id": "271251fc-1d14-4224-b23e-783486288cf8",
   "metadata": {},
   "outputs": [
    {
     "name": "stdin",
     "output_type": "stream",
     "text": [
      "Please enter your email address. perez.armando@yahoo.com\n"
     ]
    },
    {
     "data": {
      "text/plain": [
       "'The assigned username is: perez.armando'"
      ]
     },
     "execution_count": 28,
     "metadata": {},
     "output_type": "execute_result"
    }
   ],
   "source": [
    "user_name()"
   ]
  }
 ],
 "metadata": {
  "kernelspec": {
   "display_name": "Python 3 (ipykernel)",
   "language": "python",
   "name": "python3"
  },
  "language_info": {
   "codemirror_mode": {
    "name": "ipython",
    "version": 3
   },
   "file_extension": ".py",
   "mimetype": "text/x-python",
   "name": "python",
   "nbconvert_exporter": "python",
   "pygments_lexer": "ipython3",
   "version": "3.11.5"
  }
 },
 "nbformat": 4,
 "nbformat_minor": 5
}
