{
 "cells": [
  {
   "cell_type": "markdown",
   "id": "ada9de19-a90d-4378-82f2-9b9224e785d8",
   "metadata": {},
   "source": [
    "# Day 34: Just Digits\n",
    "\n",
    "In this callenge, copy the **text below** and save it as a CSV file. Save it in the same folder as your Python file. Save it as **python.csv**. Write a function called **just_digits** that reads the text from the CSV file and returns only digit elements frothe de file. Your function should return **1991**, **2**, **2000**, **3**, **2008** as a list of strings.\n",
    "\n",
    "\"Python was released in 1991 for the first time. Python 2 was released in 2000 and introduced new features, such as **list comprehensions** and a **cycle-detecting** garbage collection system (in addition to **reference counting**). Python 3 was released in 2008 and was a major revision of the language that is not completely **backward-compatible**.\"\n",
    "\n",
    "**Source: Wikipedia**"
   ]
  },
  {
   "cell_type": "markdown",
   "id": "50f8c72e-51f8-433f-86af-5446a90f0485",
   "metadata": {},
   "source": [
    "# Día 34: Solo Dígitos\n",
    "\n",
    "En este desafío, copia el **texto a continuación** y guárdalo como un archivo CSV. Guárdalo en la misma carpeta que tu archivo de Python. Guárdalo con el nombre **python.csv**. Escribe una función llamada **just_digits** que lea el texto del archivo CSV y devuelva solo los elementos numéricos del archivo. Tu función debería retornar: **1991, 2, 2000, 3, 2008** como una lista de cadenas.\n",
    "\n",
    "\"Python was released in 1991 for the first time. Python 2 was released in 2000 and introduced new features, such as **list comprehensions** and a **cycle-detecting** garbage collection system (in addition to **reference counting**). Python 3 was released in 2008 and was a major revision of the language that is not completely **backward-compatible**.\"\n",
    "\n",
    "**Source: Wikipedia**"
   ]
  },
  {
   "cell_type": "code",
   "execution_count": 26,
   "id": "c8cb2735-4fd1-4c8b-a3f4-d326e2c60cd3",
   "metadata": {},
   "outputs": [
    {
     "name": "stdout",
     "output_type": "stream",
     "text": [
      "The text has been successfully written to python.csv.\n"
     ]
    }
   ],
   "source": [
    "import csv\n",
    "\n",
    "# Define the text to be written to the CSV file\n",
    "text = \"\"\"Python was released in 1991 for the first time. Python 2 was\n",
    "released in 2000 and introduced new features, such as list\n",
    "comprehensions and a cycle-detecting garbage collection system\n",
    "(in addition to reference counting). Python 3 was released in 2008\n",
    "and was a major revision of the language that is not\n",
    "completely backward-compatible.\"\"\"\n",
    "\n",
    "# Define the CSV file name\n",
    "csv_file_name = \"python.csv\"\n",
    "\n",
    "# Write the text to the CSV file\n",
    "with open(csv_file_name, mode='w', newline='') as file:\n",
    "    writer = csv.writer(file)\n",
    "    writer.writerow([text])\n",
    "\n",
    "print(f\"The text has been successfully written to {csv_file_name}.\")"
   ]
  },
  {
   "cell_type": "markdown",
   "id": "d16d6f1f-7f59-41f3-821f-de2abafbb986",
   "metadata": {},
   "source": [
    "## Version 1"
   ]
  },
  {
   "cell_type": "code",
   "execution_count": 33,
   "id": "8ac78717-4b24-4d77-b8cb-4b842645514e",
   "metadata": {},
   "outputs": [],
   "source": [
    "def just_digits(CSV_file):\n",
    "    list_of_words = []\n",
    "    \n",
    "    # Read the text from the CSV file\n",
    "    with open(CSV_file, mode='r') as file:\n",
    "        reader = csv.reader(file)\n",
    "        for row in reader:\n",
    "            list_of_words = row[0].split()\n",
    "            \n",
    "        # Filter out the digits   \n",
    "        list_of_digits = [word for word in list_of_words if word.isdigit()]\n",
    "        \n",
    "        # Print the result\n",
    "        print(\"Digits found in the CSV file:\")\n",
    "        print(list_of_digits)"
   ]
  },
  {
   "cell_type": "code",
   "execution_count": 34,
   "id": "57985a89-f1e1-49f3-8b7c-17cd089dca5a",
   "metadata": {},
   "outputs": [
    {
     "name": "stdout",
     "output_type": "stream",
     "text": [
      "Digits found in the CSV file:\n",
      "['1991', '2', '2000', '3', '2008']\n"
     ]
    }
   ],
   "source": [
    "just_digits(\"python.csv\")"
   ]
  },
  {
   "cell_type": "markdown",
   "id": "2f64dd21-4ee5-48c9-afa2-9247ee44e8b8",
   "metadata": {},
   "source": [
    "## Version 2"
   ]
  },
  {
   "cell_type": "code",
   "execution_count": 31,
   "id": "f78ae85b-741e-432c-be33-e63e98a2f18a",
   "metadata": {},
   "outputs": [],
   "source": [
    "def just_digits(CSV_file):\n",
    "    list_of_words = []\n",
    "    \n",
    "    # Read the text from the CSV file\n",
    "    with open(CSV_file, mode='r') as file:\n",
    "        reader = csv.reader(file)\n",
    "        for row in reader:\n",
    "            list_of_words.extend(row[0].split())  # Use extend to add words to the list\n",
    "    \n",
    "    # Filter out the digits\n",
    "    list_of_digits = [word for word in list_of_words if word.isdigit()]\n",
    "    \n",
    "    # Print the result\n",
    "    print(\"Digits found in the CSV file:\")\n",
    "    print(list_of_digits)"
   ]
  },
  {
   "cell_type": "code",
   "execution_count": 32,
   "id": "5a5f586b-e27a-4489-8df3-69b2f45e96bc",
   "metadata": {},
   "outputs": [
    {
     "name": "stdout",
     "output_type": "stream",
     "text": [
      "Digits found in the CSV file:\n",
      "['1991', '2', '2000', '3', '2008']\n"
     ]
    }
   ],
   "source": [
    "just_digits(\"python.csv\")"
   ]
  }
 ],
 "metadata": {
  "kernelspec": {
   "display_name": "Python 3 (ipykernel)",
   "language": "python",
   "name": "python3"
  },
  "language_info": {
   "codemirror_mode": {
    "name": "ipython",
    "version": 3
   },
   "file_extension": ".py",
   "mimetype": "text/x-python",
   "name": "python",
   "nbconvert_exporter": "python",
   "pygments_lexer": "ipython3",
   "version": "3.12.3"
  }
 },
 "nbformat": 4,
 "nbformat_minor": 5
}
