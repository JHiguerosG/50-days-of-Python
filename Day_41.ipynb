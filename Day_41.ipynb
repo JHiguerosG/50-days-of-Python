{
 "cells": [
  {
   "cell_type": "markdown",
   "id": "08c284ec-1f2b-43fb-b5fd-e04636ea6574",
   "metadata": {},
   "source": [
    "# Day 41: Only Words with Vowels\n",
    "\n",
    "Create a function called **words_with_vowels**, this function takes a string of words and returns **a list** of only words that have vowels in them. For example **'You have no rhythm'** should return **['You', 'have', 'no']**."
   ]
  },
  {
   "cell_type": "markdown",
   "id": "01c938d5-f99d-434a-b007-ef342971fa51",
   "metadata": {},
   "source": [
    "# Día 41: Solo Palabras con Vocales\n",
    "\n",
    "Crea una función llamada **words_with_vowels**, esta función toma una cadena de palabras y devuelve **una lista** con solo las palabras que contienen vocales. Por ejemplo, **'You have no rhythm'** debería devolver **['You', 'have', 'no']**."
   ]
  },
  {
   "cell_type": "code",
   "execution_count": 58,
   "id": "1202a759-893a-493b-a3c5-8aeb51a9e13d",
   "metadata": {},
   "outputs": [],
   "source": [
    "def words_with_vowels(list_of_words):\n",
    "    vowels = 'aeiouAEIOU'\n",
    "    new_list_of_words = []\n",
    "\n",
    "    for word in list_of_words.split():\n",
    "        if any(char in vowels for char in word):\n",
    "            new_list_of_words.append(word)\n",
    "    print(new_list_of_words)"
   ]
  },
  {
   "cell_type": "code",
   "execution_count": 59,
   "id": "f9a68c12-e25e-4a2a-a28f-261f9d138b84",
   "metadata": {},
   "outputs": [
    {
     "name": "stdout",
     "output_type": "stream",
     "text": [
      "['You', 'have', 'no']\n"
     ]
    }
   ],
   "source": [
    "words_with_vowels('You have no rhythm')"
   ]
  },
  {
   "cell_type": "markdown",
   "id": "f6c9103b-cbba-46e1-b457-30bec9c25295",
   "metadata": {},
   "source": [
    "## Extra Challenge: Class of Cars\n",
    "\n",
    "b. Create three classes of three car brands - **Ford**, **BMW**, and **Tesla**. The **attributes** of the car's objetcs will be, **model**, **color**, **year**, **transmission**, and **whether the car is electric or not (Boolean value)**. Consider using inheritance in your answer.  \n",
    "\n",
    "You will create one object for each car brand:  \n",
    "\n",
    "**bmw1** : **model**: x6, **Color**: silver, **Year**: 2018, **Transmission**: Auto, **Electric**: False  \n",
    "**tesla1** : **model**: S, **Color**: beige, **Year**: 2017, **Transmission**: Auto, **Electric**: True  \n",
    "**ford1** : **model**: focus, **Color**: white, **Year**: 2020, **Transmission**: Auto, **Electric**: False  \n",
    "\n",
    "You will create a **class method**, called **print_cars** that will be able to print out objects of the class. For example, if you call the method on the **ford1** object of the Ford class, your function should be able to print out **car info** in this exact format:  \n",
    "\n",
    "**car_model = focus**  \n",
    "**Color = White**  \n",
    "**Year = 2020**  \n",
    "**Transmission = Auto**  \n",
    "**Electric = False**\n"
   ]
  },
  {
   "cell_type": "markdown",
   "id": "ef9111f8-3862-4dff-aa8e-4de891ec62ce",
   "metadata": {},
   "source": [
    "## Desafío Extra: Clase de Autos\n",
    "\n",
    "b. Crea tres clases de tres marcas de autos: **Ford**, **BMW** y **Tesla**. Los **atributos** de los objetos del auto serán **modelo**, **color**, **año**, **transmisión** y **si el auto es eléctrico o no (valor booleano)**. Considera usar herencia en tu respuesta.  \n",
    "\n",
    "Crearás un objeto para cada marca de auto:  \n",
    "\n",
    "**bmw1** : **modelo**: x6, **Color**: plateado, **Año**: 2018, **Transmisión**: Automática, **Eléctrico**: False  \n",
    "**tesla1** : **modelo**: S, **Color**: beige, **Año**: 2017, **Transmisión**: Automática, **Eléctrico**: True  \n",
    "**ford1** : **modelo**: focus, **Color**: blanco, **Año**: 2020, **Transmisión**: Automática, **Eléctrico**: False  \n",
    "\n",
    "Crearás un **método de clase** llamado **print_cars** que podrá imprimir objetos de la clase. Por ejemplo, si llamas al método en el objeto **ford1** de la clase Ford, tu función deberá imprimir **la información del auto** en este formato exacto:  \n",
    "\n",
    "**car_model** = **focus**  \n",
    "**Color** = **White**  \n",
    "**Year** = **2020**  \n",
    "**Transmission** = **Auto**  \n",
    "**Electric** = **False**  "
   ]
  },
  {
   "cell_type": "code",
   "execution_count": 6,
   "id": "eacf1fdf-289e-478d-8ebf-979bd66e2029",
   "metadata": {},
   "outputs": [
    {
     "name": "stdout",
     "output_type": "stream",
     "text": [
      "Car model = Focus\n",
      "Color = White \n",
      "Year = 2017 \n",
      "Transmission = Auto \n",
      "Electric = False\n",
      "Car model = S\n",
      "Color = Grey \n",
      "Year = 2016 \n",
      "Transmission = Manual \n",
      "Electric = True\n",
      "Car model = X6\n",
      "Color = Silver \n",
      "Year = 2018 \n",
      "Transmission = Auto \n",
      "Electric = False\n"
     ]
    }
   ],
   "source": [
    "class Cars:\n",
    "    def __init__(self, model, color, year, transmission, electric=False):\n",
    "        self.model = model\n",
    "        self.color = color\n",
    "        self.year = year\n",
    "        self.transmission = transmission\n",
    "        self.electric = electric\n",
    "\n",
    "    # Creating the class method\n",
    "    def print_car(self):\n",
    "        return f'Car model = {self.model}\\nColor = {self.color} ' \\\n",
    "               f'\\nYear = {self.year} ' \\\n",
    "               f'\\nTransmission = {self.transmission} ' \\\n",
    "               f'\\nElectric = {self.electric}'\n",
    "\n",
    "class BMW(Cars):\n",
    "    def __init__(self, model, color, year, transmission, electric=False):\n",
    "        Cars.__init__(self, model, color, year, transmission, electric=electric)\n",
    "\n",
    "class Tesla(Cars):\n",
    "    def __init__(self, model, color, year, transmission, electric=False):\n",
    "        Cars.__init__(self, model, color, year, transmission, electric=electric)\n",
    "\n",
    "class Ford(Cars):\n",
    "    def __init__(self, model, color, year, transmission, electric=False):\n",
    "        Cars.__init__(self, model, color, year, transmission, electric=electric)\n",
    "\n",
    "# Instantiating class objects\n",
    "ford1 = Ford(\"Focus\", \"White\", 2017, \"Auto\", False)\n",
    "print(ford1.print_car())\n",
    "\n",
    "tesla1 = Tesla(\"S\", \"Grey\", 2016, \"Manual\", True)\n",
    "print(tesla1.print_car())\n",
    "\n",
    "bmw1 = BMW(\"X6\", \"Silver\", 2018, \"Auto\", False)\n",
    "print(bmw1.print_car())\n"
   ]
  }
 ],
 "metadata": {
  "kernelspec": {
   "display_name": "Python 3 (ipykernel)",
   "language": "python",
   "name": "python3"
  },
  "language_info": {
   "codemirror_mode": {
    "name": "ipython",
    "version": 3
   },
   "file_extension": ".py",
   "mimetype": "text/x-python",
   "name": "python",
   "nbconvert_exporter": "python",
   "pygments_lexer": "ipython3",
   "version": "3.12.3"
  }
 },
 "nbformat": 4,
 "nbformat_minor": 5
}
