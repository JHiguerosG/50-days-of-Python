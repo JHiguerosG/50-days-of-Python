{
 "cells": [
  {
   "cell_type": "markdown",
   "id": "669c0d8c-4377-4031-82e4-999dd852d78e",
   "metadata": {},
   "source": [
    "# Day 25: All the Same\n",
    "\n",
    "Create a function called **all_the_same** that takes one argument, a **string**, a **list**, or a **tuple** and checks if all the elements are the same. If the elements are the same, the function should return **True**. If not, it should return **False**. For example, **['Mary', 'Mary', 'Mary']** should return **True**."
   ]
  },
  {
   "cell_type": "markdown",
   "id": "48978cf7-c0f4-4ebd-8856-e43a4f032ad7",
   "metadata": {},
   "source": [
    "# Día 25: Todos Iguales\n",
    "\n",
    "Crea una función llamada **all_the_same** que tome un argumento, **una cadena**, una **lista** o una **tupla** y verifique si todos los elementos son iguales. Si los elementos son iguales, la función debe devolver True. Si no, debe devolver False. Por ejemplo, **['Mary', 'Mary', 'Mary']** debería devolver **True**."
   ]
  },
  {
   "cell_type": "code",
   "execution_count": 50,
   "id": "4fa0e55c-8749-4a00-9d9c-b236fa734766",
   "metadata": {},
   "outputs": [],
   "source": [
    "def all_the_same(elements):\n",
    "    # Get the first element\n",
    "    first_element = elements[0]\n",
    "    \n",
    "    # Check if all elements are the same as the first element\n",
    "    for element in elements:\n",
    "        if element != first_element:\n",
    "            return False\n",
    "    return True"
   ]
  },
  {
   "cell_type": "code",
   "execution_count": 54,
   "id": "92ada5c1-62d0-4371-967d-a13cf925ed38",
   "metadata": {},
   "outputs": [
    {
     "data": {
      "text/plain": [
       "True"
      ]
     },
     "execution_count": 54,
     "metadata": {},
     "output_type": "execute_result"
    }
   ],
   "source": [
    "all_the_same(['Mary', 'Mary', 'Mary'])"
   ]
  },
  {
   "cell_type": "code",
   "execution_count": 53,
   "id": "f27d9635-98c4-4484-8b87-1c28caf4d12a",
   "metadata": {},
   "outputs": [
    {
     "data": {
      "text/plain": [
       "False"
      ]
     },
     "execution_count": 53,
     "metadata": {},
     "output_type": "execute_result"
    }
   ],
   "source": [
    "all_the_same(['Mary', 'John', 'Mary'])"
   ]
  },
  {
   "cell_type": "code",
   "execution_count": 55,
   "id": "d6bc9eec-7639-4215-b0f2-fd1d0b96b3a5",
   "metadata": {},
   "outputs": [
    {
     "data": {
      "text/plain": [
       "True"
      ]
     },
     "execution_count": 55,
     "metadata": {},
     "output_type": "execute_result"
    }
   ],
   "source": [
    "all_the_same((1, 1, 1, 1))"
   ]
  },
  {
   "cell_type": "code",
   "execution_count": 56,
   "id": "814fe5ab-d428-4841-bd08-41fe999917bc",
   "metadata": {},
   "outputs": [
    {
     "data": {
      "text/plain": [
       "False"
      ]
     },
     "execution_count": 56,
     "metadata": {},
     "output_type": "execute_result"
    }
   ],
   "source": [
    "all_the_same((1, 2, 1, 1))"
   ]
  },
  {
   "cell_type": "code",
   "execution_count": 57,
   "id": "569af21f-f38d-4a6a-86c5-e2b9b9a8b058",
   "metadata": {},
   "outputs": [
    {
     "data": {
      "text/plain": [
       "True"
      ]
     },
     "execution_count": 57,
     "metadata": {},
     "output_type": "execute_result"
    }
   ],
   "source": [
    "all_the_same(\"aaa\")"
   ]
  },
  {
   "cell_type": "code",
   "execution_count": 58,
   "id": "3e5cf1ec-90e2-4772-90a0-45049ec71f5a",
   "metadata": {},
   "outputs": [
    {
     "data": {
      "text/plain": [
       "False"
      ]
     },
     "execution_count": 58,
     "metadata": {},
     "output_type": "execute_result"
    }
   ],
   "source": [
    "all_the_same(\"abc\")"
   ]
  }
 ],
 "metadata": {
  "kernelspec": {
   "display_name": "Python 3 (ipykernel)",
   "language": "python",
   "name": "python3"
  },
  "language_info": {
   "codemirror_mode": {
    "name": "ipython",
    "version": 3
   },
   "file_extension": ".py",
   "mimetype": "text/x-python",
   "name": "python",
   "nbconvert_exporter": "python",
   "pygments_lexer": "ipython3",
   "version": "3.12.7"
  }
 },
 "nbformat": 4,
 "nbformat_minor": 5
}
