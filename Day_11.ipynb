{
 "cells": [
  {
   "cell_type": "markdown",
   "id": "0568700a-8c47-447a-a6a4-6cfef2691460",
   "metadata": {},
   "source": [
    "# Day 11: Are They Equal?\n",
    "\n",
    "Write a function called **equal_strings**. The function takes two strings as arguments and compares them. If the strings are equal (if they have the same characters and have equal length), it should return **True**, if they are not, it should return **False**. For example, 'love' and 'evol' should return **True**."
   ]
  },
  {
   "cell_type": "markdown",
   "id": "1d912433-cce8-44d5-b3d6-0ea729e4dd8c",
   "metadata": {},
   "source": [
    "# Día 11: ¿Son Iguales?\n",
    "\n",
    "Escribe una función llamada **equal_strings**. La función toma dos cadenas como argumentos y las compara. Si las cadenas son iguales (tienen los mismos caracteres y la misma longitud), debe devolver **True**; si no lo son, debe devolver **False**. Por ejemplo, 'love' y 'evol' deberían devolver **True**."
   ]
  },
  {
   "cell_type": "markdown",
   "id": "9cc58e40-cb32-4b54-8e58-6c511cdf60da",
   "metadata": {},
   "source": [
    "## Version 1\n",
    "\n",
    "Case Sensitive"
   ]
  },
  {
   "cell_type": "code",
   "execution_count": 9,
   "id": "38ef45e1-413d-4b7d-9ef1-32aed527a1cb",
   "metadata": {},
   "outputs": [],
   "source": [
    "def equal_strings(a, b):\n",
    "    if sorted(a) == sorted(b):\n",
    "        print('True')\n",
    "    else:\n",
    "        print('False')"
   ]
  },
  {
   "cell_type": "code",
   "execution_count": 11,
   "id": "be622cb2-7188-48d5-a985-757f5f3b15fd",
   "metadata": {},
   "outputs": [
    {
     "name": "stdout",
     "output_type": "stream",
     "text": [
      "True\n"
     ]
    }
   ],
   "source": [
    "equal_strings('amor', 'roma')"
   ]
  },
  {
   "cell_type": "code",
   "execution_count": 13,
   "id": "0e69dd01-5d1a-4f7a-aa22-8dbb16fe5709",
   "metadata": {},
   "outputs": [
    {
     "name": "stdout",
     "output_type": "stream",
     "text": [
      "False\n"
     ]
    }
   ],
   "source": [
    "equal_strings('Vivo', 'Ivov')"
   ]
  },
  {
   "cell_type": "code",
   "execution_count": 15,
   "id": "04529397-f060-4c1f-b89b-7a3e1ebe8e3e",
   "metadata": {},
   "outputs": [
    {
     "name": "stdout",
     "output_type": "stream",
     "text": [
      "False\n"
     ]
    }
   ],
   "source": [
    "equal_strings('Love', 'love')"
   ]
  },
  {
   "cell_type": "markdown",
   "id": "7a024c52-f262-46a5-a4f4-5f6e379cb498",
   "metadata": {},
   "source": [
    "## Version 2\n",
    "\n",
    "Not Case Sensitive"
   ]
  },
  {
   "cell_type": "code",
   "execution_count": 28,
   "id": "68b5809f-c412-4f4b-bd9d-c53eea0c7e35",
   "metadata": {},
   "outputs": [],
   "source": [
    "def equal_strings(a, b):\n",
    "    if sorted(a.lower()) == sorted(b.lower()):\n",
    "        print('True')\n",
    "    else:\n",
    "        print('False')"
   ]
  },
  {
   "cell_type": "code",
   "execution_count": 30,
   "id": "5ec9a5d4-8471-4d2e-9fb8-2bd989a0f549",
   "metadata": {},
   "outputs": [
    {
     "name": "stdout",
     "output_type": "stream",
     "text": [
      "True\n"
     ]
    }
   ],
   "source": [
    "equal_strings('amor', 'roma')"
   ]
  },
  {
   "cell_type": "code",
   "execution_count": 32,
   "id": "42cff849-5c75-4432-b298-549a046a49d6",
   "metadata": {},
   "outputs": [
    {
     "name": "stdout",
     "output_type": "stream",
     "text": [
      "True\n"
     ]
    }
   ],
   "source": [
    "equal_strings('Vivo', 'Ivov')"
   ]
  },
  {
   "cell_type": "code",
   "execution_count": 34,
   "id": "3f982256-5055-4d2c-b5da-468df95ade0d",
   "metadata": {},
   "outputs": [
    {
     "name": "stdout",
     "output_type": "stream",
     "text": [
      "True\n"
     ]
    }
   ],
   "source": [
    "equal_strings('Love', 'love')"
   ]
  }
 ],
 "metadata": {
  "kernelspec": {
   "display_name": "Python 3 (ipykernel)",
   "language": "python",
   "name": "python3"
  },
  "language_info": {
   "codemirror_mode": {
    "name": "ipython",
    "version": 3
   },
   "file_extension": ".py",
   "mimetype": "text/x-python",
   "name": "python",
   "nbconvert_exporter": "python",
   "pygments_lexer": "ipython3",
   "version": "3.11.5"
  }
 },
 "nbformat": 4,
 "nbformat_minor": 5
}
