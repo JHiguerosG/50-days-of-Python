{
 "cells": [
  {
   "cell_type": "markdown",
   "id": "ea1937cc-b1c4-46fd-a529-cb30ea1e8445",
   "metadata": {},
   "source": [
    "# Day 20: Capitalize First Letter\n",
    "\n",
    "Write a function called **capitalize**. This function takes a string as an argument and capitalizes the first letter of each word. For example, **'i like learning'** becomes **'I Like Learning'**."
   ]
  },
  {
   "cell_type": "markdown",
   "id": "be43c7f4-2894-4a8d-8131-87a3aa174973",
   "metadata": {},
   "source": [
    "# Día 20: Capitalizar la Primera Letra\n",
    "\n",
    "Escribe una función llamada **capitalize**. Esta función toma una cadena como argumento y capitaliza la primera letra de cada palabra. Por ejemplo, **'i like learning'** se convierte en **'I Like Learning'**."
   ]
  },
  {
   "cell_type": "code",
   "execution_count": 7,
   "id": "fc018b36-39f3-43fc-bdb4-941d9f413a0d",
   "metadata": {},
   "outputs": [],
   "source": [
    "def capitalize(text):\n",
    "    return text.title()"
   ]
  },
  {
   "cell_type": "code",
   "execution_count": 8,
   "id": "7c883fd1-ece6-4d44-acfc-2d9a991cbfb5",
   "metadata": {},
   "outputs": [
    {
     "data": {
      "text/plain": [
       "'I Love Learning'"
      ]
     },
     "execution_count": 8,
     "metadata": {},
     "output_type": "execute_result"
    }
   ],
   "source": [
    "capitalize('i love learning')"
   ]
  }
 ],
 "metadata": {
  "kernelspec": {
   "display_name": "Python 3 (ipykernel)",
   "language": "python",
   "name": "python3"
  },
  "language_info": {
   "codemirror_mode": {
    "name": "ipython",
    "version": 3
   },
   "file_extension": ".py",
   "mimetype": "text/x-python",
   "name": "python",
   "nbconvert_exporter": "python",
   "pygments_lexer": "ipython3",
   "version": "3.12.7"
  }
 },
 "nbformat": 4,
 "nbformat_minor": 5
}
