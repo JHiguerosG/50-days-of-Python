{
 "cells": [
  {
   "cell_type": "markdown",
   "id": "da8b6535-2f3b-418c-8744-ff80943af833",
   "metadata": {},
   "source": [
    "# Day 33: List Intersection\n",
    "\n",
    "Write a function called **inter_section** that takes **two** lists and finds the intersection (the elements that are present in both lists). The function should return a tuple of intersections. Use list comprehension in your solution. Use the list below. Your function should return **(30,65,80)**.\n",
    "\n",
    "**list1 = [20, 30, 60, 65, 75, 80, 85]**  \n",
    "**list2 = [42, 30, 80, 65, 68, 88, 95]**"
   ]
  },
  {
   "cell_type": "markdown",
   "id": "a6bbd4df-f1e5-4c07-bfba-f46ff3db75ae",
   "metadata": {},
   "source": [
    "## Día 33: Intersección de Listas\n",
    "\n",
    "Escribe una función llamada **inter_section** que tome **dos** listas y encuentre la intersección (los elementos que están presentes en ambas listas). La función debe devolver una tupla con los elementos en la intersección. Usa comprensión de listas en tu solución. Usa las listas a continuación. Tu función debe devolver **(30, 65, 80)**.\n",
    "\n",
    "**list1 = [20, 30, 60, 65, 75, 80, 85]**  \n",
    "**list2 = [42, 30, 80, 65, 68, 88, 95]**"
   ]
  },
  {
   "cell_type": "code",
   "execution_count": 15,
   "id": "60cac328-266e-4251-b0c1-cdad7c0dce3f",
   "metadata": {},
   "outputs": [],
   "source": [
    "list1 = [20, 30, 60, 65, 75, 80, 85]\n",
    "list2 = [42, 30, 80, 65, 68, 88, 95]\n",
    "\n",
    "def inter_section(list_a, list_b):\n",
    "    inter_section_list = tuple([num for num in list_a if num in list_b])\n",
    "    print(inter_section_list)"
   ]
  },
  {
   "cell_type": "code",
   "execution_count": 16,
   "id": "0adb480d-9d5a-468a-b3ee-60d992486ac3",
   "metadata": {},
   "outputs": [
    {
     "name": "stdout",
     "output_type": "stream",
     "text": [
      "(30, 65, 80)\n"
     ]
    }
   ],
   "source": [
    "inter_section(list1, list2)"
   ]
  },
  {
   "cell_type": "markdown",
   "id": "f2805aa9-6eed-47cf-bac5-7aa2ce315655",
   "metadata": {},
   "source": [
    "## Extra Challenge: Set or list\n",
    "\n",
    "You want to implement a code that will search for a number in a range. You have a decision to make as to whether to store the number in a **set** or a **list**. Your decision will be based on time. You have to pick a data type that **executes faster**.  \n",
    "\n",
    "You have a range and you can either **store** it in a **set** or a **list** depending on which one executes faster when you are searching for **a number in the range**. See below:  \n",
    "\n",
    "a = range(10000000)  \n",
    "x = set(a)  \n",
    "y = list(a)  \n",
    "\n",
    "Let's say you are looking for a number 9999999 in the range above. Search for this number in the **list** and the **set**. Your challenge is to find which code executes faster. You will pick the one that executes quicker, lists, or sets. **Run the two searches an time them**."
   ]
  },
  {
   "cell_type": "markdown",
   "id": "c399cce5-812d-4342-978c-594f678679f7",
   "metadata": {},
   "source": [
    "## Desafío Extra: Conjunto o Lista\n",
    "\n",
    "Quieres implementar un código que busque un número dentro de un rango. Debes tomar una decisión sobre si almacenar los números en un **conjunto (set)** o en una **lista (list)**. Tu decisión se basará en el tiempo de ejecución. Debes elegir la estructura de datos que **ejecute la búsqueda más rápido**.  \n",
    "\n",
    "Tienes un rango y puedes **almacenarlo** en un **conjunto** o en una **lista**, dependiendo de cuál sea más rápido al buscar **un número en el rango**. Observa el siguiente código:  \n",
    "\n",
    "a = range(10000000)  \n",
    "x = set(a)  \n",
    "y = list(a)  \n",
    "\n",
    "Supongamos que estás buscando el número 9999999 en el rango anterior. Realiza la búsqueda en la **lista** y en el **conjunto**. Tu desafío es determinar cuál de las dos estructuras ejecuta la búsqueda más rápido. Deberás comparar ambos tiempos de ejecución y decidir cuál es más eficiente: listas o conjuntos. **Ejecuta ambas búsquedas y mídeles el tiempo**."
   ]
  },
  {
   "cell_type": "code",
   "execution_count": 36,
   "id": "ad1fd24a-d2f4-4ce5-9def-6dbbe64bfe11",
   "metadata": {},
   "outputs": [
    {
     "name": "stdout",
     "output_type": "stream",
     "text": [
      "Result for the list: 0.12 seconds\n",
      "Result for the set: 0.0 seconds\n",
      "The search in the set is faster than in the list.\n"
     ]
    }
   ],
   "source": [
    "import time\n",
    "\n",
    "# Create the list and the set\n",
    "x = list(range(10000000))\n",
    "y = set(range(10000000))\n",
    "\n",
    "# Measure the search time in the list\n",
    "start_list = time.time()\n",
    "9999999 in x\n",
    "end_list = time.time()\n",
    "time_list = end_list - start_list\n",
    "\n",
    "# Measure the search time in the set\n",
    "start_set = time.time()\n",
    "9999999 in y\n",
    "end_set = time.time()\n",
    "time_set = end_set - start_set\n",
    "\n",
    "# Compare the times and display the result\n",
    "print(f'Result for the list: {round(time_list,2)} seconds\\nResult for the set: {round(time_set,2)} seconds')\n",
    "if time_list < time_set:\n",
    "    print(\"The search in the list is faster than in the set.\")\n",
    "else:\n",
    "    print(\"The search in the set is faster than in the list.\")"
   ]
  }
 ],
 "metadata": {
  "kernelspec": {
   "display_name": "Python 3 (ipykernel)",
   "language": "python",
   "name": "python3"
  },
  "language_info": {
   "codemirror_mode": {
    "name": "ipython",
    "version": 3
   },
   "file_extension": ".py",
   "mimetype": "text/x-python",
   "name": "python",
   "nbconvert_exporter": "python",
   "pygments_lexer": "ipython3",
   "version": "3.12.3"
  }
 },
 "nbformat": 4,
 "nbformat_minor": 5
}
