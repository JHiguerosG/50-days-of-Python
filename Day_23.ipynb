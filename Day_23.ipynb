{
 "cells": [
  {
   "cell_type": "markdown",
   "id": "3aa7435c-d4c8-4aa4-a2ee-342613848321",
   "metadata": {},
   "source": [
    "# Day 23: Simple Calculator\n",
    "\n",
    "Create a simple calculator. The calculator should be able to perform basic math operations, **add**, **substrac**, **divide** and **multiply**. The calculator should take input from users. The calculator should be able to handle **ZeroDivisionError**, **NameError**, and **ValueError**."
   ]
  },
  {
   "cell_type": "markdown",
   "id": "6f721b57-dd1c-4de4-962a-d3795865084b",
   "metadata": {},
   "source": [
    "# Día 23: Calculadora Simple\n",
    "\n",
    "Crea una calculadora simple. La calculadora debería poder realizar operaciones matemáticas básicas: **sumar**, **restar**, **dividir** y **multiplicar**. La calculadora debe recibir entrada de los usuarios. La calculadora debe poder manejar los errores **ZeroDivisionError**, **NameError** y **ValueError**."
   ]
  },
  {
   "cell_type": "code",
   "execution_count": 64,
   "id": "755b2d8b-e07b-402b-8430-c55059e5e1d8",
   "metadata": {},
   "outputs": [],
   "source": [
    "def simple_calculator():\n",
    "    while True:\n",
    "        try:\n",
    "            operation = input(\"Enter operation (+, -, *, /) or 'quit' to exit: \")\n",
    "            if operation == 'quit':\n",
    "                print(\"Calculator exiting. Goodbye!\")\n",
    "                break\n",
    "\n",
    "            if operation not in ['+', '-', '*', '/']:\n",
    "                raise ValueError(\"Invalid operation.\")\n",
    "\n",
    "            num1 = float(input(\"Enter the first number: \"))\n",
    "            num2 = float(input(\"Enter the second number: \"))\n",
    "\n",
    "            if operation == '+':\n",
    "                result = num1 + num2\n",
    "            elif operation == '-':\n",
    "                result = num1 - num2\n",
    "            elif operation == '*':\n",
    "                result = num1 * num2\n",
    "            elif operation == '/':\n",
    "                if num2 == 0:\n",
    "                    raise ZeroDivisionError(\"Cannot divide by zero.\")\n",
    "                result = num1 / num2\n",
    "\n",
    "            print(f\"The result of {num1} {operation} {num2} is: {result}\")\n",
    "\n",
    "        except ZeroDivisionError as zde:\n",
    "            print(zde)\n",
    "        except ValueError as ve:\n",
    "            print(ve)\n",
    "        except NameError as ne:\n",
    "            print(ne)"
   ]
  },
  {
   "cell_type": "code",
   "execution_count": 65,
   "id": "81c95b9d-29b6-4909-9ead-7400c740570e",
   "metadata": {},
   "outputs": [
    {
     "name": "stdin",
     "output_type": "stream",
     "text": [
      "Enter operation (+, -, *, /) or 'quit' to exit:  *\n",
      "Enter the first number:  34\n",
      "Enter the second number:  45\n"
     ]
    },
    {
     "name": "stdout",
     "output_type": "stream",
     "text": [
      "The result of 34.0 * 45.0 is: 1530.0\n"
     ]
    },
    {
     "name": "stdin",
     "output_type": "stream",
     "text": [
      "Enter operation (+, -, *, /) or 'quit' to exit:  quit\n"
     ]
    },
    {
     "name": "stdout",
     "output_type": "stream",
     "text": [
      "Calculator exiting. Goodbye!\n"
     ]
    }
   ],
   "source": [
    "simple_calculator()"
   ]
  }
 ],
 "metadata": {
  "kernelspec": {
   "display_name": "Python 3 (ipykernel)",
   "language": "python",
   "name": "python3"
  },
  "language_info": {
   "codemirror_mode": {
    "name": "ipython",
    "version": 3
   },
   "file_extension": ".py",
   "mimetype": "text/x-python",
   "name": "python",
   "nbconvert_exporter": "python",
   "pygments_lexer": "ipython3",
   "version": "3.12.7"
  }
 },
 "nbformat": 4,
 "nbformat_minor": 5
}
