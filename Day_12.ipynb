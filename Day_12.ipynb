{
 "cells": [
  {
   "cell_type": "markdown",
   "id": "5fe8080a-1feb-4f00-8d16-7edfe552e4f8",
   "metadata": {},
   "source": [
    "# Day 12: Count the Dots\n",
    "\n",
    "Write a function called **count_dots**. This function takes a string separated by dots as a parameter and counts how many dots are in the string. For example, **'h.e.l.p.'** should return 4 dots, and **'he.lp.'** should return 2 dots."
   ]
  },
  {
   "cell_type": "markdown",
   "id": "d6c740de-940a-4a8f-8269-515c547056dd",
   "metadata": {},
   "source": [
    "# Día 12: Contar los Puntos\n",
    "\n",
    "Escribe una función llamada **count_dots**. Esta función toma una cadena separada por puntos como parámetro y cuenta cuántos puntos hay en la cadena. Por ejemplo, **'h.e.l.p.'** debería devolver 4 puntos, y **'he.lp.'** debería devolver 2 puntos."
   ]
  },
  {
   "cell_type": "markdown",
   "id": "9dd810b0-b8a7-4277-aac7-ede2326563b3",
   "metadata": {},
   "source": [
    "## Version 1"
   ]
  },
  {
   "cell_type": "code",
   "execution_count": 6,
   "id": "4d775991-ffa5-4b10-98e0-8d3477929678",
   "metadata": {},
   "outputs": [],
   "source": [
    "def count_dots(a):\n",
    "    count = 0\n",
    "    for i in a:\n",
    "        if i == '.':\n",
    "            count += 1\n",
    "    return count"
   ]
  },
  {
   "cell_type": "code",
   "execution_count": 8,
   "id": "764ee88b-1103-443a-a2c2-cdc49d4c0a8b",
   "metadata": {},
   "outputs": [
    {
     "data": {
      "text/plain": [
       "4"
      ]
     },
     "execution_count": 8,
     "metadata": {},
     "output_type": "execute_result"
    }
   ],
   "source": [
    "count_dots('h.e.l.p.')"
   ]
  },
  {
   "cell_type": "code",
   "execution_count": 10,
   "id": "2e3c7d1d-ea82-45f4-9732-24f220860a04",
   "metadata": {},
   "outputs": [
    {
     "data": {
      "text/plain": [
       "2"
      ]
     },
     "execution_count": 10,
     "metadata": {},
     "output_type": "execute_result"
    }
   ],
   "source": [
    "count_dots('he.lp.')"
   ]
  },
  {
   "cell_type": "markdown",
   "id": "28079831-3cf4-4cc5-a777-f094c911ea1d",
   "metadata": {},
   "source": [
    "## Version 2"
   ]
  },
  {
   "cell_type": "code",
   "execution_count": 26,
   "id": "9a725f0a-d49c-44f8-bed1-41c1e276fd50",
   "metadata": {},
   "outputs": [],
   "source": [
    "def count_dots(a):\n",
    "    dots = len([i for i in a if i=='.'])\n",
    "    return dots"
   ]
  },
  {
   "cell_type": "code",
   "execution_count": 28,
   "id": "c5a5d137-2bf7-4f19-bbb1-4fbb722438af",
   "metadata": {},
   "outputs": [
    {
     "data": {
      "text/plain": [
       "4"
      ]
     },
     "execution_count": 28,
     "metadata": {},
     "output_type": "execute_result"
    }
   ],
   "source": [
    "count_dots('h.e.l.p.')"
   ]
  },
  {
   "cell_type": "code",
   "execution_count": 30,
   "id": "d32123b1-2f51-4508-a71d-872a197a3de9",
   "metadata": {},
   "outputs": [
    {
     "data": {
      "text/plain": [
       "2"
      ]
     },
     "execution_count": 30,
     "metadata": {},
     "output_type": "execute_result"
    }
   ],
   "source": [
    "count_dots('he.lp.')"
   ]
  },
  {
   "cell_type": "markdown",
   "id": "a8a69107-e549-4bde-bc85-51b84540fc26",
   "metadata": {},
   "source": [
    "## Extra Challenge: Your Age in Minutes\n",
    "\n",
    "b. Write a function called **age_in_minutes** that tells a user **how old they are in minutes**. Your code should ask the user to enter their **year of birth**, and it should return their age in minutes (by substracting their year of birt to the current year -2025-). Here are things to look out for:\n",
    "\n",
    "a. The user can only input a **4 digit** year birth. For example, 1930 is a valid year. However, entering any number longer or less than 4 digits long should sender input invalid. Notify the user to input a four digits number.\n",
    "\n",
    "b. If a user enters a year **before** 1900, your code should tell the user that input is invalid. If the user enters the year **after the** current year, the code should tell the user, to input a valid year.\n",
    "\n",
    "The code should **run until the user inputs a valid year**. Your function should return the user's age in minutes. For example, if someone enters 1930, as their year of birth your function should return:\n",
    "\n",
    "**You are 49,932,000 minutes old.**"
   ]
  },
  {
   "cell_type": "markdown",
   "id": "4d1922c1-39a0-4c52-83e0-4e683328feef",
   "metadata": {},
   "source": [
    "## Desafío Extra: Tu Edad en Minutos\n",
    "\n",
    "Escribe una función llamada **age_in_minutes** que le indique a un usuario **cuántos minutos ha vivido**. Tu código debe pedir al usuario que ingrese su **año de nacimiento** y devolver su edad en minutos (restando el año de nacimiento del año actual -2025-). Aquí hay algunas condiciones importantes:\n",
    "\n",
    "a. El usuario solo puede ingresar un año de nacimiento de **4 dígitos**. Por ejemplo, 1930 es válido. Si el número ingresado tiene más o menos de 4 dígitos, se debe notificar al usuario que la entrada no es válida y pedirle que ingrese un número de cuatro dígitos.\n",
    "\n",
    "b. Si el usuario ingresa un año **anterior** a 1900, el código debe indicar que la entrada no es válida. Si el usuario ingresa un **año posterior** al año actual, también se debe indicar que la entrada es inválida y pedirle que ingrese un año válido.\n",
    "\n",
    "El programa **debe ejecutarse en un bucle hasta que el usuario ingrese un año válido**. La función debe devolver la edad del usuario en minutos. Por ejemplo, si alguien ingresa 1930 como su año de nacimiento, la función debería devolver:\n",
    "\n",
    "**Tienes 49,932,000 minutos de edad.**"
   ]
  },
  {
   "cell_type": "code",
   "execution_count": 277,
   "id": "e14708f3-5dda-4662-90a8-d782f9b4d7f5",
   "metadata": {},
   "outputs": [],
   "source": [
    "import datetime\n",
    "current_year = today.year\n",
    "\n",
    "def age_in_minutes():\n",
    "    age = input('Enter your year of birth')\n",
    "    while len(age) != 4:\n",
    "        age = input('Enter your year of birth in 4 digits')\n",
    "    while int(age) < 1900:\n",
    "        age = input('Invalid year, please enter a year of 1900 or later')\n",
    "    while int(age) > current_year:\n",
    "        age = int(input(f'Invalid year, please enter a year up to the present year ({current_year})'))\n",
    "    actual_age = current_year - int(age)\n",
    "    age_min = (60*24*365) * actual_age\n",
    "    print('')\n",
    "    print(f'Currente year: {current_year}\\n')\n",
    "    print(f'You are {actual_age} years old\\n')\n",
    "    print(f'You are {age_min:,} minutes old\\n')"
   ]
  },
  {
   "cell_type": "code",
   "execution_count": 275,
   "id": "d35f342b-68be-48b8-82b0-f00550c577d1",
   "metadata": {},
   "outputs": [
    {
     "name": "stdin",
     "output_type": "stream",
     "text": [
      "Enter your year of birth 15\n",
      "Enter your year of birth in 4 digits 1899\n",
      "Invalid year, please enter a year of 1900 or later 2026\n",
      "Invalid year, please enter a year up to the present year (2025) 2000\n"
     ]
    },
    {
     "name": "stdout",
     "output_type": "stream",
     "text": [
      "\n",
      "Currente year: 2025\n",
      "\n",
      "You are 25 years old\n",
      "\n",
      "You are 13,140,000 minutes old\n",
      "\n"
     ]
    }
   ],
   "source": [
    "age_in_minutes()"
   ]
  },
  {
   "cell_type": "code",
   "execution_count": 265,
   "id": "61c1e3af-9eb9-4449-958f-3c8485e8548a",
   "metadata": {},
   "outputs": [
    {
     "name": "stdin",
     "output_type": "stream",
     "text": [
      "Enter your year of birth 1930\n"
     ]
    },
    {
     "name": "stdout",
     "output_type": "stream",
     "text": [
      "\n",
      "Currente year: 2025\n",
      "\n",
      "You are 95 years old\n",
      "\n",
      "You are 49,932,000 minutes old\n",
      "\n"
     ]
    }
   ],
   "source": [
    "age_in_minutes()"
   ]
  },
  {
   "cell_type": "code",
   "execution_count": 269,
   "id": "3d0ffcce-af71-46a7-b1e3-bae8fd245910",
   "metadata": {},
   "outputs": [
    {
     "name": "stdin",
     "output_type": "stream",
     "text": [
      "Enter your year of birth 1981\n"
     ]
    },
    {
     "name": "stdout",
     "output_type": "stream",
     "text": [
      "\n",
      "Currente year: 2025\n",
      "\n",
      "You are 44 years old\n",
      "\n",
      "You are 23,126,400 minutes old\n",
      "\n"
     ]
    }
   ],
   "source": [
    "age_in_minutes()"
   ]
  },
  {
   "cell_type": "code",
   "execution_count": 271,
   "id": "d19f1ce1-af47-40a2-a041-1de5a51c4e61",
   "metadata": {},
   "outputs": [
    {
     "name": "stdin",
     "output_type": "stream",
     "text": [
      "Enter your year of birth 1999\n"
     ]
    },
    {
     "name": "stdout",
     "output_type": "stream",
     "text": [
      "\n",
      "Currente year: 2025\n",
      "\n",
      "You are 26 years old\n",
      "\n",
      "You are 13,665,600 minutes old\n",
      "\n"
     ]
    }
   ],
   "source": [
    "age_in_minutes()"
   ]
  }
 ],
 "metadata": {
  "kernelspec": {
   "display_name": "Python 3 (ipykernel)",
   "language": "python",
   "name": "python3"
  },
  "language_info": {
   "codemirror_mode": {
    "name": "ipython",
    "version": 3
   },
   "file_extension": ".py",
   "mimetype": "text/x-python",
   "name": "python",
   "nbconvert_exporter": "python",
   "pygments_lexer": "ipython3",
   "version": "3.11.5"
  }
 },
 "nbformat": 4,
 "nbformat_minor": 5
}
