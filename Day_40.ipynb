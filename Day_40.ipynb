{
 "cells": [
  {
   "cell_type": "markdown",
   "id": "249e07b4-a921-43ef-8f5f-03eeab409855",
   "metadata": {},
   "source": [
    "# Day 40: Pig Latin\n",
    "\n",
    "Write a function called **translate** that takes the following words and translates them into pif Latin.  \n",
    "\n",
    "**a = 'i love python'**  \n",
    "\n",
    "Here are the rules:  \n",
    "\n",
    "1. If a word starts with a vowel (a,e,i,o,u) add **'yay'** athe the end.  \n",
    "   For example **'eat'** will become **'eatyay'**\n",
    "2. If a word starts with anything other than a vowel, move the first letter to the end and add **'ay'** to the end.  \n",
    "   For example **'day'** will become **'ayday'**.  \n",
    "\n",
    "Your code should return:\n",
    "**iyay ovelay ythonpay**"
   ]
  },
  {
   "cell_type": "markdown",
   "id": "db0baaef-6528-417c-88b2-5886a1472f08",
   "metadata": {},
   "source": [
    "# Día 40: Pig Latin\n",
    "\n",
    "Escribe una función llamada **translate** que tome las siguientes palabras y las traduzca a Pig Latin.  \n",
    "\n",
    "**a = 'i love python'**  \n",
    "\n",
    "Aquí están las reglas:  \n",
    "\n",
    "1. Si una palabra comienza con una vocal (a, e, i, o, u), añade **'yay'** al final.  \n",
    "   Por ejemplo, **'eat'** se convertirá en **'eatyay'**.  \n",
    "2. Si una palabra comienza con cualquier otra letra, mueve la primera letra al final y añade **'ay'** al final.  \n",
    "   Por ejemplo, **'day'** se convertirá en **'ayday'**.  \n",
    "\n",
    "Tu código debería devolver: **iyay ovelay ythonpay**"
   ]
  },
  {
   "cell_type": "code",
   "execution_count": 20,
   "id": "54700354-f6f3-4aaa-911e-aaab9094dea8",
   "metadata": {},
   "outputs": [],
   "source": [
    "a = 'i love python'\n",
    "\n",
    "def translate(sentence):\n",
    "    pig_latin = []\n",
    "    \n",
    "    for word in sentence.lower().split():\n",
    "        if word[0] in \"aeiou\":\n",
    "            pig_latin.append(word+'yay')\n",
    "        else:\n",
    "            pig_latin.append(word[1:]+word[0]+'ay')\n",
    "            \n",
    "    return ' '.join(pig_latin)"
   ]
  },
  {
   "cell_type": "code",
   "execution_count": 22,
   "id": "6ad6a4fc-4b16-453f-94b7-59316c314388",
   "metadata": {},
   "outputs": [
    {
     "name": "stdout",
     "output_type": "stream",
     "text": [
      "iyay ovelay ythonpay\n"
     ]
    }
   ],
   "source": [
    "print(translate(a))"
   ]
  }
 ],
 "metadata": {
  "kernelspec": {
   "display_name": "Python 3 (ipykernel)",
   "language": "python",
   "name": "python3"
  },
  "language_info": {
   "codemirror_mode": {
    "name": "ipython",
    "version": 3
   },
   "file_extension": ".py",
   "mimetype": "text/x-python",
   "name": "python",
   "nbconvert_exporter": "python",
   "pygments_lexer": "ipython3",
   "version": "3.12.3"
  }
 },
 "nbformat": 4,
 "nbformat_minor": 5
}
