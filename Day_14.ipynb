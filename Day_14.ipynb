{
 "cells": [
  {
   "cell_type": "markdown",
   "id": "0ea73614-1ac0-4b02-b03b-fc24b5e7b4b4",
   "metadata": {},
   "source": [
    "# Day 14: Flatten the List\n",
    "\n",
    "Write a function called **flat_list** that takes one argument, a nested list. The function converts the nested list into a one-dimension list. For example **[[2,4,5,6]]** should return **[2,4,5,6]**."
   ]
  },
  {
   "cell_type": "markdown",
   "id": "e777daa7-8a77-4c72-beeb-df14706b4117",
   "metadata": {},
   "source": [
    "# Día 14: Aplanar la lista\n",
    "\n",
    "Escribe una función llamada **flat_list** que tome un argumento, una lista anidada. La función convierte la lista anidada en una lista unidimensional. Por ejemplo, **[[2,4,5,6]]** debería devolver **[2,4,5,6]**."
   ]
  },
  {
   "cell_type": "code",
   "execution_count": 9,
   "id": "c7a94a18-0e5f-42f3-a971-41ed265902aa",
   "metadata": {},
   "outputs": [],
   "source": [
    "nested_list = [[2,4,5,6]]"
   ]
  },
  {
   "cell_type": "code",
   "execution_count": 10,
   "id": "621b87fa-3a06-4295-9493-9b7630981edb",
   "metadata": {},
   "outputs": [
    {
     "data": {
      "text/plain": [
       "[[2, 4, 5, 6]]"
      ]
     },
     "execution_count": 10,
     "metadata": {},
     "output_type": "execute_result"
    }
   ],
   "source": [
    "nested_list"
   ]
  },
  {
   "cell_type": "markdown",
   "id": "df7fb2dd-6f45-4f9a-aaaf-e84c1eeeb461",
   "metadata": {},
   "source": [
    "## Version 1"
   ]
  },
  {
   "cell_type": "code",
   "execution_count": 11,
   "id": "3dd181e2-a5d4-4ea1-8ff1-2e05a7f04d21",
   "metadata": {},
   "outputs": [],
   "source": [
    "def flat_list(a):\n",
    "    new_list = []\n",
    "    for i in a:\n",
    "        new_list = i\n",
    "    return new_list"
   ]
  },
  {
   "cell_type": "code",
   "execution_count": 12,
   "id": "5102417b-0b7f-4f33-804c-ee0067b195ba",
   "metadata": {},
   "outputs": [
    {
     "data": {
      "text/plain": [
       "[2, 4, 5, 6]"
      ]
     },
     "execution_count": 12,
     "metadata": {},
     "output_type": "execute_result"
    }
   ],
   "source": [
    "flat_list(nested_list)"
   ]
  },
  {
   "cell_type": "markdown",
   "id": "2b36b7d3-5c5a-4e0d-adec-8e097ef9ba91",
   "metadata": {},
   "source": [
    "## Version 2"
   ]
  },
  {
   "cell_type": "code",
   "execution_count": 21,
   "id": "94ccb135-b4c0-479a-91e8-45c80eae80f8",
   "metadata": {},
   "outputs": [],
   "source": [
    "def flat_list(a):\n",
    "    return [item for i in nested_list for item in i]"
   ]
  },
  {
   "cell_type": "code",
   "execution_count": 22,
   "id": "3679582b-d904-46e1-9dad-b1f4e70dca81",
   "metadata": {},
   "outputs": [
    {
     "data": {
      "text/plain": [
       "[2, 4, 5, 6]"
      ]
     },
     "execution_count": 22,
     "metadata": {},
     "output_type": "execute_result"
    }
   ],
   "source": [
    "flat_list(nested_list)"
   ]
  },
  {
   "cell_type": "markdown",
   "id": "7cec0ce0-ca6b-4285-a712-284e599776a8",
   "metadata": {},
   "source": [
    "## Extra Challenge: Teacher's Salary\n",
    "\n",
    "b. A school has asked you to write a program that will calculate teachers' salaries. The program should ask the user to enter the teacher's **name**, the **number of periods** taught in a month, and the **rate** per period. The monthly salary is calculated by multiplying the **number of periods** by the **monthly rate**. The current monthly rate per period is **\\$20**. If a teacher has more than 100 periods in a month, everything above 100 is overtime. Overtime is **\\$25** per period. For example, if a teacher has taught **105** periods, their monthly gross salary should be **2,125**. Write a function called **your_salary** that calculates a teacher's gross salary. The function should return the **teacher's name, periods taught**, and **gross salary**. Here is how you should format your output:\n",
    "\n",
    "Teacher: John Kelly,  \n",
    "Periods: 105  \n",
    "Gross salary: 2,125"
   ]
  },
  {
   "cell_type": "markdown",
   "id": "d706b8d6-43ef-44c6-833c-c7677eef10db",
   "metadata": {},
   "source": [
    "## Desafío Extra: Salario del Profesor\n",
    "\n",
    "b. Una escuela te ha pedido que escribas un programa que calcule los salarios de los profesores. El programa debe pedir al usuario que ingrese el **nombre** del profesor, el **número de períodos** enseñados en un mes y la **tarifa** por período. El salario mensual se calcula multiplicando el **número de períodos** por la **tarifa mensual**. La tarifa actual por período es de **\\$20**. Si un profesor tiene más de 100 períodos en un mes, todo lo que supere los 100 períodos se considera horas extra. Las horas extra se pagan a **\\$25** por período. Por ejemplo, si un profesor ha enseñado **105 períodos**, su salario bruto mensual debería ser **$2,125**. Escribe una función llamada **your_salary** que calcule el salario bruto de un profesor. La función debe devolver el **nombre del profesor**, **los períodos enseñados** y **el salario bruto**. Formato de salida esperado:\n",
    "\n",
    "Profesor: John Kelly,  \n",
    "Períodos: 105  \n",
    "Salario bruto: 2,125"
   ]
  },
  {
   "cell_type": "code",
   "execution_count": 62,
   "id": "49c0a2e0-d9f6-4913-9c61-2454d39a5e2c",
   "metadata": {},
   "outputs": [],
   "source": [
    "def your_salary():\n",
    "    while True:\n",
    "        try:\n",
    "            teacher_name = input('Please enter the teacher\\'s name: ')\n",
    "            number_of_periods = int(input('Please enter the number of periods taught in a month: '))\n",
    "            rate_per_period = float(input('Please enter the rate per period: '))\n",
    "            break\n",
    "        except ValueError:\n",
    "            print('''Invalid input, please try again.\n",
    "                  Teacher's name = letters only\n",
    "                  Number of periods = whole number\n",
    "                  Rate per period = integer or float''')\n",
    "    if number_of_periods <= 100:\n",
    "        monthly_rate = (number_of_periods * rate_per_period)\n",
    "    else:\n",
    "        rate_overtime_per_period = float(input('Please enter the rate per overtime period'))\n",
    "        monthly_rate = (100 * rate_per_period) + ((number_of_periods - 100) * rate_overtime_per_period)\n",
    "    print(f'Profesor: {teacher_name},\\nPeriods: {number_of_periods}\\nGross salary: {monthly_rate:,}')"
   ]
  },
  {
   "cell_type": "code",
   "execution_count": 63,
   "id": "84fe12cb-88fa-4d29-8fca-e409b70a8517",
   "metadata": {},
   "outputs": [
    {
     "name": "stdin",
     "output_type": "stream",
     "text": [
      "Please enter the teacher's name:  John Kelly\n",
      "Please enter the number of periods taught in a month:  105\n",
      "Please enter the rate per period:  20\n",
      "Please enter the rate per overtime period 25\n"
     ]
    },
    {
     "name": "stdout",
     "output_type": "stream",
     "text": [
      "Profesor: John Kelly,\n",
      "Periods: 105\n",
      "Gross salary: 2,125.0\n"
     ]
    }
   ],
   "source": [
    "your_salary()"
   ]
  },
  {
   "cell_type": "code",
   "execution_count": 64,
   "id": "2022a029-cc79-41f2-ae0d-25b7997493fa",
   "metadata": {},
   "outputs": [
    {
     "name": "stdin",
     "output_type": "stream",
     "text": [
      "Please enter the teacher's name:  David Brown\n",
      "Please enter the number of periods taught in a month:  50\n",
      "Please enter the rate per period:  30.5\n"
     ]
    },
    {
     "name": "stdout",
     "output_type": "stream",
     "text": [
      "Profesor: David Brown,\n",
      "Periods: 50\n",
      "Gross salary: 1,525.0\n"
     ]
    }
   ],
   "source": [
    "your_salary()"
   ]
  },
  {
   "cell_type": "code",
   "execution_count": 65,
   "id": "820184c1-eae9-43ed-bd18-d43de7d3c43e",
   "metadata": {},
   "outputs": [
    {
     "name": "stdin",
     "output_type": "stream",
     "text": [
      "Please enter the teacher's name:  Laura Smith\n",
      "Please enter the number of periods taught in a month:  dfg\n"
     ]
    },
    {
     "name": "stdout",
     "output_type": "stream",
     "text": [
      "Invalid input, please try again.\n",
      "                  Teacher's name = letters only\n",
      "                  Number of periods = whole number\n",
      "                  Rate per period = integer or float\n"
     ]
    },
    {
     "name": "stdin",
     "output_type": "stream",
     "text": [
      "Please enter the teacher's name:  Laura Smith\n",
      "Please enter the number of periods taught in a month:  112\n",
      "Please enter the rate per period:  25\n",
      "Please enter the rate per overtime period 30\n"
     ]
    },
    {
     "name": "stdout",
     "output_type": "stream",
     "text": [
      "Profesor: Laura Smith,\n",
      "Periods: 112\n",
      "Gross salary: 2,860.0\n"
     ]
    }
   ],
   "source": [
    "your_salary()"
   ]
  }
 ],
 "metadata": {
  "kernelspec": {
   "display_name": "Python 3 (ipykernel)",
   "language": "python",
   "name": "python3"
  },
  "language_info": {
   "codemirror_mode": {
    "name": "ipython",
    "version": 3
   },
   "file_extension": ".py",
   "mimetype": "text/x-python",
   "name": "python",
   "nbconvert_exporter": "python",
   "pygments_lexer": "ipython3",
   "version": "3.12.8"
  }
 },
 "nbformat": 4,
 "nbformat_minor": 5
}
