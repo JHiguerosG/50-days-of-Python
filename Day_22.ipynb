{
 "cells": [
  {
   "cell_type": "markdown",
   "id": "e96eba31-30f7-4963-bcf2-e52a680e7c18",
   "metadata": {},
   "source": [
    "# Day 22: Add Under_Score\n",
    "\n",
    "Create **three** functions. The first called **add_hash** takes a string and adds a hash # between the words. The second function called **add_underscore** removes the hash (#) and replaces it with an underscore (_). The third function called **remove_underscore**, removes the underscore and replaces it with nothing. If you pass **'Python'** as an argument for the three functions, and you call them at the same time like:  \n",
    "**print(remove_underscore(add_underscore(add_hash('Python'))))** it should return **'Python'**.  "
   ]
  },
  {
   "cell_type": "markdown",
   "id": "14f823ca-bf6f-46fd-b366-77cecb57cb03",
   "metadata": {},
   "source": [
    "# Día 22: Agregar Guion Bajo\n",
    "\n",
    "Crea **tres** funciones. La primera llamada **add_hash** toma una cadena y agrega un hash # entre las palabras. La segunda función llamada **add_underscore** elimina el hash (#) y lo reemplaza con un guion bajo (_). La tercera función llamada **remove_underscore** elimina el guion bajo y lo reemplaza con nada. Si pasas **'Python'** como argumento para las tres funciones, y las llamas al mismo tiempo como:  \n",
    "**print(remove_underscore(add_underscore(add_hash('Python'))))** debería devolver **'Python'**."
   ]
  },
  {
   "cell_type": "code",
   "execution_count": 43,
   "id": "9a23c878-5090-4279-bf97-0edc0967597a",
   "metadata": {},
   "outputs": [],
   "source": [
    "def add_hash(string_a):\n",
    "    string_with_hash = string_a.replace(' ', '#')\n",
    "    return string_with_hash"
   ]
  },
  {
   "cell_type": "code",
   "execution_count": 52,
   "id": "61331ac4-256c-4869-9330-45c58faa5c85",
   "metadata": {},
   "outputs": [
    {
     "data": {
      "text/plain": [
       "'Hello#world'"
      ]
     },
     "execution_count": 52,
     "metadata": {},
     "output_type": "execute_result"
    }
   ],
   "source": [
    "add_hash('Hello world')"
   ]
  },
  {
   "cell_type": "code",
   "execution_count": 46,
   "id": "ef68ed84-6b9b-4dda-bfa9-a708bf32a631",
   "metadata": {},
   "outputs": [],
   "source": [
    "def add_underscore(string_b):\n",
    "    string_with_underscore = string_b.replace('#', '_')\n",
    "    return string_with_underscore"
   ]
  },
  {
   "cell_type": "code",
   "execution_count": 53,
   "id": "63bf7c31-2840-4a8e-aef3-c0066cd4210a",
   "metadata": {},
   "outputs": [
    {
     "data": {
      "text/plain": [
       "'Hello_world'"
      ]
     },
     "execution_count": 53,
     "metadata": {},
     "output_type": "execute_result"
    }
   ],
   "source": [
    "add_underscore('Hello#world')"
   ]
  },
  {
   "cell_type": "code",
   "execution_count": 48,
   "id": "84ec10ad-36a3-4860-87c7-25146259e078",
   "metadata": {},
   "outputs": [],
   "source": [
    "def remove_underscore(string_c):\n",
    "    string_with_space = string_c.replace('_', ' ')\n",
    "    return string_with_space"
   ]
  },
  {
   "cell_type": "code",
   "execution_count": 54,
   "id": "c0cc94cf-95d1-4695-a6fa-0b7654e43803",
   "metadata": {},
   "outputs": [
    {
     "data": {
      "text/plain": [
       "'Hello world'"
      ]
     },
     "execution_count": 54,
     "metadata": {},
     "output_type": "execute_result"
    }
   ],
   "source": [
    "remove_underscore('Hello_world')"
   ]
  },
  {
   "cell_type": "code",
   "execution_count": 55,
   "id": "1442f258-4f6e-4809-b989-f40dec538934",
   "metadata": {},
   "outputs": [
    {
     "name": "stdout",
     "output_type": "stream",
     "text": [
      "Python\n"
     ]
    }
   ],
   "source": [
    "print(remove_underscore(add_underscore(add_hash('Python'))))"
   ]
  },
  {
   "cell_type": "code",
   "execution_count": 56,
   "id": "00ba21ae-ead9-404b-b910-1395b8a34760",
   "metadata": {},
   "outputs": [
    {
     "name": "stdout",
     "output_type": "stream",
     "text": [
      "Hello world\n"
     ]
    }
   ],
   "source": [
    "print(remove_underscore(add_underscore(add_hash('Hello world'))))"
   ]
  },
  {
   "cell_type": "code",
   "execution_count": 57,
   "id": "23b69961-1015-413d-932b-a02203ee8153",
   "metadata": {},
   "outputs": [
    {
     "name": "stdout",
     "output_type": "stream",
     "text": [
      "I love learning\n"
     ]
    }
   ],
   "source": [
    "print(remove_underscore(add_underscore(add_hash('I love learning'))))"
   ]
  }
 ],
 "metadata": {
  "kernelspec": {
   "display_name": "Python 3 (ipykernel)",
   "language": "python",
   "name": "python3"
  },
  "language_info": {
   "codemirror_mode": {
    "name": "ipython",
    "version": 3
   },
   "file_extension": ".py",
   "mimetype": "text/x-python",
   "name": "python",
   "nbconvert_exporter": "python",
   "pygments_lexer": "ipython3",
   "version": "3.12.7"
  }
 },
 "nbformat": 4,
 "nbformat_minor": 5
}
