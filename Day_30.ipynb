{
 "cells": [
  {
   "cell_type": "markdown",
   "id": "e3297dca-7e7e-4894-b06e-48f0592adb72",
   "metadata": {},
   "source": [
    "# Day 30: Most Repeated Name\n",
    "\n",
    "Write a function called **repeated_name** that finds the most repeated name in the following list.\n",
    "\n",
    "**name = ['John', 'Peter', 'John', 'Peter', 'Jones', 'Peter']**  "
   ]
  },
  {
   "cell_type": "markdown",
   "id": "d089aee4-403b-4441-b2b0-df8b2be03a52",
   "metadata": {},
   "source": [
    "# Día 30: Nombre más repetido\n",
    "Escribe una función llamada **repeated_name** que encuentre el nombre más repetido en la siguiente lista\n",
    "\n",
    "**name = ['John', 'Peter', 'John', 'Peter', 'Jones', 'Peter']**"
   ]
  },
  {
   "cell_type": "code",
   "execution_count": 35,
   "id": "61268146-0991-4454-a3cb-565749abf660",
   "metadata": {},
   "outputs": [],
   "source": [
    "def repeated_name(name_list):\n",
    "    count = {}\n",
    "    \n",
    "    for element in name:\n",
    "        if element in count:\n",
    "            count[element] += 1\n",
    "        else:\n",
    "            count[element] = 1\n",
    "    print(f'The most repeated name is {max(count)}, it appears {count[max(count)]} times')"
   ]
  },
  {
   "cell_type": "code",
   "execution_count": 36,
   "id": "3260920e-6eb0-4479-8ba7-285f212ddebb",
   "metadata": {},
   "outputs": [
    {
     "name": "stdout",
     "output_type": "stream",
     "text": [
      "The most repeated name is Peter, it appears 3 times\n"
     ]
    }
   ],
   "source": [
    "name = ['John', 'Peter', 'John', 'Peter', 'Jones', 'Peter']\n",
    "repeated_name(name)"
   ]
  },
  {
   "cell_type": "markdown",
   "id": "fdfeca6d-deeb-492f-90f0-25a0c08b9f60",
   "metadata": {},
   "source": [
    "## Extra Challenge: Sort by Last Name\n",
    "\n",
    "b. Your work for a local school in your area. The school has a list of names of students saved in a list. The school has asked you to write a program that takes a list of names and sorts them alphabetically. the names should be sorted by last names. Here is a list of names:\n",
    "\n",
    "**['Beyonce Knowles', 'Alicia Keys', 'Katie Perry', 'Chris Brown', 'Tom Cruise']**\n",
    "\n",
    "Your code should not just sort them alphabetically, but it should also switch the names (the last name must be the first). Here is how your code output should look:\n",
    "\n",
    "**['Brown Chris', 'Cruise Tom', 'Keys Alicia', 'Knowles Beyonce', 'Perry Katie']**\n",
    "\n",
    "Write a function called **sorted_names**."
   ]
  },
  {
   "cell_type": "markdown",
   "id": "abc92db1-3a56-4b27-a546-b6c68bd1d275",
   "metadata": {},
   "source": [
    "## Desafío Extra: Ordenar por Apellido\n",
    "\n",
    "b. Trabajas para una escuela local en tu área. La escuela tiene una lista de nombres de estudiantes guardados en una lista. La escuela te ha pedido que escribas un programa que tome una lista de nombres y los ordene alfabéticamente. Los nombres deben ordenarse por apellido. Aquí tienes una lista de nombres:\n",
    "\n",
    "**['Beyonce Knowles', 'Alicia Keys', 'Katie Perry', 'Chris Brown', 'Tom Cruise']**\n",
    "\n",
    "Tu código no solo debe ordenarlos alfabéticamente, sino que también debe intercambiar los nombres (el apellido debe aparecer primero). Aquí está el resultado esperado:\n",
    "\n",
    "**['Brown Chris', 'Cruise Tom', 'Keys Alicia', 'Knowles Beyonce', 'Perry Katie']**\n",
    "\n",
    "Escribe una función llamada **sorted_names**."
   ]
  },
  {
   "cell_type": "markdown",
   "id": "c27c1a26-0650-496e-895f-9656a11b9865",
   "metadata": {},
   "source": [
    "## Version 1"
   ]
  },
  {
   "cell_type": "code",
   "execution_count": 105,
   "id": "65444485-569d-4ed7-8ce2-8acd9e32b6b7",
   "metadata": {},
   "outputs": [],
   "source": [
    "def sorted_names(list_of_names):\n",
    "    last_names_first = []\n",
    "    for students in list_of_names:\n",
    "        student = students.split()\n",
    "        lastname_first = student[1]+' '+student[0]\n",
    "        last_names_first.append(lastname_first)\n",
    "    return sorted(last_names_first)"
   ]
  },
  {
   "cell_type": "code",
   "execution_count": 106,
   "id": "4c84545a-edc5-44ee-bb1e-d6ec1e6a85e0",
   "metadata": {},
   "outputs": [
    {
     "data": {
      "text/plain": [
       "['Brown Chris', 'Cruise Tom', 'Keys Alicia', 'Knowles Beyonce', 'Perry Katie']"
      ]
     },
     "execution_count": 106,
     "metadata": {},
     "output_type": "execute_result"
    }
   ],
   "source": [
    "sorted_names(['Beyonce Knowles', 'Alicia Keys', 'Katie Perry', 'Chris Brown', 'Tom Cruise'])"
   ]
  },
  {
   "cell_type": "markdown",
   "id": "e21d2300-2e40-4ca2-9d5f-42e0bb1da201",
   "metadata": {},
   "source": [
    "## Version 2"
   ]
  },
  {
   "cell_type": "code",
   "execution_count": 114,
   "id": "760885c9-20db-4780-a9f9-4e4f87b5bf98",
   "metadata": {},
   "outputs": [],
   "source": [
    "def sorted_names(list_of_names):\n",
    "    lastname_first = [f'{student.split()[1]} {student.split()[0]}' for student in list_of_names]\n",
    "    lastname_first_sorted = sorted(lastname_first)\n",
    "    return lastname_first_sorted"
   ]
  },
  {
   "cell_type": "code",
   "execution_count": 115,
   "id": "5b044be1-e7e9-4ab0-880c-c04ce5d2b354",
   "metadata": {},
   "outputs": [
    {
     "data": {
      "text/plain": [
       "['Brown Chris', 'Cruise Tom', 'Keys Alicia', 'Knowles Beyonce', 'Perry Katie']"
      ]
     },
     "execution_count": 115,
     "metadata": {},
     "output_type": "execute_result"
    }
   ],
   "source": [
    "sorted_names(['Beyonce Knowles', 'Alicia Keys', 'Katie Perry', 'Chris Brown', 'Tom Cruise'])"
   ]
  }
 ],
 "metadata": {
  "kernelspec": {
   "display_name": "Python 3 (ipykernel)",
   "language": "python",
   "name": "python3"
  },
  "language_info": {
   "codemirror_mode": {
    "name": "ipython",
    "version": 3
   },
   "file_extension": ".py",
   "mimetype": "text/x-python",
   "name": "python",
   "nbconvert_exporter": "python",
   "pygments_lexer": "ipython3",
   "version": "3.12.7"
  }
 },
 "nbformat": 4,
 "nbformat_minor": 5
}
