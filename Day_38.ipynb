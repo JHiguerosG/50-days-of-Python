{
 "cells": [
  {
   "cell_type": "markdown",
   "id": "b90886f8-27a0-4c77-8aee-8421eb115734",
   "metadata": {},
   "source": [
    "# Day 38: Guess a Number\n",
    "\n",
    "Write a function called **guess_a_number**. The function should ask a user to guess a randomly generated number. If the user guesses a higher number, the code should tell them that the guess is too high, if the user guesses low, the code should tell them that their guess is too low. The user should get a maximum of three guesses. When the user guesses right, the code should declare them a winner. After three wrong guesses, the code should declare them a loser."
   ]
  },
  {
   "cell_type": "markdown",
   "id": "57c5b052-4925-4406-a77d-67cfe0b00e19",
   "metadata": {},
   "source": [
    "# Día 38: Adivina un Número\n",
    "\n",
    "Escribe una función llamada **guess_a_number**. La función debe pedir al usuario que adivine un número generado aleatoriamente. Si el usuario adivina un número mayor, el código debe indicarle que su suposición es demasiado alta. Si el usuario adivina un número menor, el código debe indicarle que su suposición es demasiado baja. El usuario tendrá un máximo de tres intentos. Si el usuario acierta, el código debe declararlo ganador. Después de tres intentos fallidos, el código debe declararlo perdedor."
   ]
  },
  {
   "cell_type": "markdown",
   "id": "c159cc74-c57d-475c-a959-cf476194c16b",
   "metadata": {},
   "source": [
    "## Version 1"
   ]
  },
  {
   "cell_type": "code",
   "execution_count": 83,
   "id": "da845c78-6677-4d00-9c3d-bc9fc4477994",
   "metadata": {},
   "outputs": [],
   "source": [
    "import random\n",
    "\n",
    "def guess_a_number():\n",
    "    \n",
    "    num_to_guess = random.randint(1, 10)  # Generate a random number between 1 and 10\n",
    "    attempts = 3  # Set the number of attempts\n",
    "\n",
    "    try:\n",
    "        for attempt in range(attempts):\n",
    "            # Prompt the user to guess a number\n",
    "            user_num = int(input('>>> Guess a number between 1 and 10: '))\n",
    "        \n",
    "            # Check if the guessed number is too high\n",
    "            if user_num > num_to_guess:\n",
    "                print('Your guess is too high.')\n",
    "            # Check if the guessed number is too low\n",
    "            elif user_num < num_to_guess:\n",
    "                print('Your guess is too low.')\n",
    "            # If the guessed number is correct\n",
    "            else:\n",
    "                print('Congratulations! You guessed the right number!')\n",
    "                return  # Exit the function if the user wins\n",
    "\n",
    "        # If the user fails to guess the number in three attempts\n",
    "        print('Sorry, you have used all your attempts. You lose.')\n",
    "\n",
    "    except ValueError:\n",
    "        # Handle the case where the input is not a number\n",
    "        print('You entered a letter. Please enter a number between 1 and 10.')"
   ]
  },
  {
   "cell_type": "code",
   "execution_count": 84,
   "id": "35cae8cb-dee3-4aff-bc16-baa3d18ee96a",
   "metadata": {},
   "outputs": [
    {
     "name": "stdin",
     "output_type": "stream",
     "text": [
      ">>> Guess a number between 1 and 10:  4\n"
     ]
    },
    {
     "name": "stdout",
     "output_type": "stream",
     "text": [
      "Your guess is too low.\n"
     ]
    },
    {
     "name": "stdin",
     "output_type": "stream",
     "text": [
      ">>> Guess a number between 1 and 10:  8\n"
     ]
    },
    {
     "name": "stdout",
     "output_type": "stream",
     "text": [
      "Your guess is too high.\n"
     ]
    },
    {
     "name": "stdin",
     "output_type": "stream",
     "text": [
      ">>> Guess a number between 1 and 10:  6\n"
     ]
    },
    {
     "name": "stdout",
     "output_type": "stream",
     "text": [
      "Your guess is too high.\n",
      "Sorry, you have used all your attempts. You lose.\n"
     ]
    }
   ],
   "source": [
    "guess_a_number()"
   ]
  },
  {
   "cell_type": "markdown",
   "id": "98311f6d-4eaf-40af-8eef-faa3a49837c6",
   "metadata": {},
   "source": [
    "## Version 2"
   ]
  },
  {
   "cell_type": "code",
   "execution_count": 85,
   "id": "69e5ab2b-df27-4bdf-9ca9-4e8f515f2b24",
   "metadata": {},
   "outputs": [],
   "source": [
    "import random\n",
    "\n",
    "def guess_a_number():\n",
    "    # Generate a random number between 1 and 10\n",
    "    num_to_guess = random.randint(1, 10)\n",
    "    attempts = 3  # Set the number of attempts\n",
    "\n",
    "    for attempt in range(attempts):\n",
    "        while True:\n",
    "            try:\n",
    "                # Prompt the user to guess a number\n",
    "                user_num = int(input('>>> Guess a number between 1 and 10: '))\n",
    "                break  # Exit the loop if the input is a valid number\n",
    "            except ValueError:\n",
    "                # Handle the case where the input is not a number\n",
    "                print('You entered a letter. Please enter a number between 1 and 10.')\n",
    "\n",
    "        # Check if the guessed number is too high\n",
    "        if user_num > num_to_guess:\n",
    "            print('Your guess is too high.')\n",
    "        # Check if the guessed number is too low\n",
    "        elif user_num < num_to_guess:\n",
    "            print('Your guess is too low.')\n",
    "        # If the guessed number is correct\n",
    "        else:\n",
    "            print('Congratulations! You guessed the right number!')\n",
    "            return  # Exit the function if the user wins\n",
    "\n",
    "    # If the user fails to guess the number in three attempts\n",
    "    print('Sorry, you have used all your attempts. You lose.')"
   ]
  },
  {
   "cell_type": "code",
   "execution_count": 86,
   "id": "1da7d014-ad19-497c-a5a5-b3e8f87977eb",
   "metadata": {},
   "outputs": [
    {
     "name": "stdin",
     "output_type": "stream",
     "text": [
      ">>> Guess a number between 1 and 10:  s\n"
     ]
    },
    {
     "name": "stdout",
     "output_type": "stream",
     "text": [
      "You entered a letter. Please enter a number between 1 and 10.\n"
     ]
    },
    {
     "name": "stdin",
     "output_type": "stream",
     "text": [
      ">>> Guess a number between 1 and 10:  5\n"
     ]
    },
    {
     "name": "stdout",
     "output_type": "stream",
     "text": [
      "Your guess is too low.\n"
     ]
    },
    {
     "name": "stdin",
     "output_type": "stream",
     "text": [
      ">>> Guess a number between 1 and 10:  64\n"
     ]
    },
    {
     "name": "stdout",
     "output_type": "stream",
     "text": [
      "Your guess is too high.\n"
     ]
    },
    {
     "name": "stdin",
     "output_type": "stream",
     "text": [
      ">>> Guess a number between 1 and 10:  8\n"
     ]
    },
    {
     "name": "stdout",
     "output_type": "stream",
     "text": [
      "Your guess is too low.\n",
      "Sorry, you have used all your attempts. You lose.\n"
     ]
    }
   ],
   "source": [
    "guess_a_number()"
   ]
  }
 ],
 "metadata": {
  "kernelspec": {
   "display_name": "Python 3 (ipykernel)",
   "language": "python",
   "name": "python3"
  },
  "language_info": {
   "codemirror_mode": {
    "name": "ipython",
    "version": 3
   },
   "file_extension": ".py",
   "mimetype": "text/x-python",
   "name": "python",
   "nbconvert_exporter": "python",
   "pygments_lexer": "ipython3",
   "version": "3.12.3"
  }
 },
 "nbformat": 4,
 "nbformat_minor": 5
}
