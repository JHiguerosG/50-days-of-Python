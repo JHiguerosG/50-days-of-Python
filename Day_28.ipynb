{
 "cells": [
  {
   "cell_type": "markdown",
   "id": "df73b0f1-d820-40cd-9c6c-8baea76433c4",
   "metadata": {},
   "source": [
    "# Day 28: Return Indexes\n",
    "\n",
    "Write a function called **index_position**. This function takes a string as a parameter and returns the positions or indexes of all lower lettes in the string. For example **'LovE'** should return **[1,2]**."
   ]
  },
  {
   "cell_type": "markdown",
   "id": "e336cca4-ed6c-43c4-b8a5-e3ada24f592e",
   "metadata": {},
   "source": [
    "# Día 28: Devolver Índices\n",
    "\n",
    "Escribe una función llamada **index_position**. Esta función toma una cadena como parámetro y devuelve las posiciones o índices de todas las letras minúsculas en la cadena. Por ejemplo, **'LovE'** debería devolver **[1,2]**."
   ]
  },
  {
   "cell_type": "code",
   "execution_count": 93,
   "id": "293744f6-3a5c-49f4-80d4-310f0959c3ce",
   "metadata": {},
   "outputs": [],
   "source": [
    "def index_position(string):\n",
    "    num = 0\n",
    "    indexes = []\n",
    "    for letter in string:\n",
    "        num += 1\n",
    "        if letter.isalpha() and letter.islower():\n",
    "            indexes.append(num-1)\n",
    "    return indexes"
   ]
  },
  {
   "cell_type": "code",
   "execution_count": 94,
   "id": "10a05d73-2ff3-44ce-a566-78a6f3019adc",
   "metadata": {},
   "outputs": [
    {
     "data": {
      "text/plain": [
       "[1, 2]"
      ]
     },
     "execution_count": 94,
     "metadata": {},
     "output_type": "execute_result"
    }
   ],
   "source": [
    "index_position('LovE')"
   ]
  },
  {
   "cell_type": "code",
   "execution_count": 95,
   "id": "9547e3f7-75c0-40cc-a316-f1597d29e71a",
   "metadata": {},
   "outputs": [
    {
     "data": {
      "text/plain": [
       "[1, 2, 3, 4]"
      ]
     },
     "execution_count": 95,
     "metadata": {},
     "output_type": "execute_result"
    }
   ],
   "source": [
    "index_position('Hoola')"
   ]
  },
  {
   "cell_type": "code",
   "execution_count": 96,
   "id": "93551abd-df31-4c00-ab3e-7f15f19a5f5f",
   "metadata": {},
   "outputs": [
    {
     "data": {
      "text/plain": [
       "[1, 2, 3, 6, 7, 8, 9]"
      ]
     },
     "execution_count": 96,
     "metadata": {},
     "output_type": "execute_result"
    }
   ],
   "source": [
    "index_position('Hola Mundo')"
   ]
  },
  {
   "cell_type": "code",
   "execution_count": 97,
   "id": "3bb924fb-7ad1-4754-9938-9bf24f93d436",
   "metadata": {},
   "outputs": [
    {
     "data": {
      "text/plain": [
       "[1, 3, 5]"
      ]
     },
     "execution_count": 97,
     "metadata": {},
     "output_type": "execute_result"
    }
   ],
   "source": [
    "index_position('EjEmPlO')"
   ]
  }
 ],
 "metadata": {
  "kernelspec": {
   "display_name": "Python 3 (ipykernel)",
   "language": "python",
   "name": "python3"
  },
  "language_info": {
   "codemirror_mode": {
    "name": "ipython",
    "version": 3
   },
   "file_extension": ".py",
   "mimetype": "text/x-python",
   "name": "python",
   "nbconvert_exporter": "python",
   "pygments_lexer": "ipython3",
   "version": "3.12.7"
  }
 },
 "nbformat": 4,
 "nbformat_minor": 5
}
