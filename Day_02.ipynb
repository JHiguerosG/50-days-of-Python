{
 "cells": [
  {
   "cell_type": "markdown",
   "id": "57621eaf-6c4d-46d4-b3b2-d0d1d945e371",
   "metadata": {},
   "source": [
    "# Day 2: Strings to Integers\n",
    "Write a function called **convert_add** that takes a list of strings as an argument and converts it to integers and sums the list. For example ['1', '3', '5'] should be converted to [1, 3, 5] and summed to 9."
   ]
  },
  {
   "cell_type": "markdown",
   "id": "fa42574a-88ad-4ed1-aea7-a2db4e47d218",
   "metadata": {},
   "source": [
    "# Día 2: Cadenas a Enteros\n",
    "\n",
    "Escribe una función llamada **convert_add** que tome una lista de cadenas como argumento, las convierta en enteros y sume los valores de la lista. Por ejemplo, ['1', '3', '5'] debería convertirse en [1, 3, 5] y la suma resultante sería 9."
   ]
  },
  {
   "cell_type": "code",
   "execution_count": 39,
   "id": "0d57f2d7-4613-4f51-a0f3-c02ea23d88fb",
   "metadata": {},
   "outputs": [],
   "source": [
    "list1 = ['1', '3', '5']"
   ]
  },
  {
   "cell_type": "code",
   "execution_count": 41,
   "id": "c2b93793-eef5-4bb3-a64a-fe331e2ac523",
   "metadata": {},
   "outputs": [],
   "source": [
    "list2 = ['4', '5', '7']"
   ]
  },
  {
   "cell_type": "code",
   "execution_count": 49,
   "id": "ed4ce2d5-dab8-4898-8a74-d9b740cbc8e3",
   "metadata": {},
   "outputs": [],
   "source": [
    "def convert_add(list_of_strings):\n",
    "    convert = []\n",
    "    sum_list = 0\n",
    "    for i in list_of_strings:\n",
    "        convert.append(int(i))\n",
    "        sum_list += int(i)\n",
    "    print(f'La nueva lista de enteros es {convert}')\n",
    "    print(f'La suma de los valores de la lista es {sum_list}')"
   ]
  },
  {
   "cell_type": "code",
   "execution_count": 51,
   "id": "24d569da-1fc3-4c7b-a28e-269798a9f58d",
   "metadata": {},
   "outputs": [
    {
     "name": "stdout",
     "output_type": "stream",
     "text": [
      "La nueva lista de enteros es [1, 3, 5]\n",
      "La suma de los valores de la lista es 9\n"
     ]
    }
   ],
   "source": [
    "convert_add(list1)"
   ]
  },
  {
   "cell_type": "code",
   "execution_count": 53,
   "id": "1f40a864-1f80-4c6c-a6e2-d81064fa5677",
   "metadata": {},
   "outputs": [
    {
     "name": "stdout",
     "output_type": "stream",
     "text": [
      "La nueva lista de enteros es [4, 5, 7]\n",
      "La suma de los valores de la lista es 16\n"
     ]
    }
   ],
   "source": [
    "convert_add(list2)"
   ]
  }
 ],
 "metadata": {
  "kernelspec": {
   "display_name": "Python 3 (ipykernel)",
   "language": "python",
   "name": "python3"
  },
  "language_info": {
   "codemirror_mode": {
    "name": "ipython",
    "version": 3
   },
   "file_extension": ".py",
   "mimetype": "text/x-python",
   "name": "python",
   "nbconvert_exporter": "python",
   "pygments_lexer": "ipython3",
   "version": "3.11.5"
  }
 },
 "nbformat": 4,
 "nbformat_minor": 5
}
