{
 "cells": [
  {
   "cell_type": "markdown",
   "id": "fb0d9bdd-3f97-40fc-bcc0-9faf944e6b61",
   "metadata": {},
   "source": [
    "# Day 19: Words and Elements\n",
    "\n",
    "Write two functions. The first function is called **count_words** which takes a string of words and counts how many words are in the string.\n",
    "\n",
    "The second function called **count_elements** takes a string of words and counts how many elements are in the string. Do not count the whitespaces. The first function will return the number of **words** in a string and the second one will return the number of **elements** (less whitespace). If you pass **'I love learning'**, the **count_words** function should return **3 words** and **count_elements** should return **13 elements**."
   ]
  },
  {
   "cell_type": "markdown",
   "id": "ebc6b5fb-25c5-455b-8d0d-3c2055db6fde",
   "metadata": {},
   "source": [
    "# Día 19: Palabras y Elementos\n",
    "\n",
    "Escribe dos funciones. La primera función se llama **count_words** y toma una cadena de palabras, contando cuántas palabras hay en la cadena.\n",
    "\n",
    "La segunda función, llamada **count_elements**, toma una cadena de palabras y cuenta cuántos elementos hay en la cadena, sin contar los espacios en blanco. La primera función devolverá el número de **palabras** en una cadena y la segunda devolverá el número de **elementos** (menos los espacios en blanco). Por ejemplo, si pasas **'I love learning'**, la función **count_words** debería devolver **3 palabras** y **count_elements** debería devolver **13 elementos**."
   ]
  },
  {
   "cell_type": "code",
   "execution_count": 28,
   "id": "9e23294e-2e29-467b-859e-594e9149b8e9",
   "metadata": {},
   "outputs": [],
   "source": [
    "def count_words(phrase):\n",
    "    words = 0\n",
    "    for word in phrase.split():\n",
    "        words += 1\n",
    "    print(f'{words} words')"
   ]
  },
  {
   "cell_type": "code",
   "execution_count": 29,
   "id": "cad2c858-9d96-42d5-b27b-7dfa30ef669d",
   "metadata": {},
   "outputs": [
    {
     "name": "stdout",
     "output_type": "stream",
     "text": [
      "3 words\n"
     ]
    }
   ],
   "source": [
    "count_words('I love learning')"
   ]
  },
  {
   "cell_type": "code",
   "execution_count": 30,
   "id": "af765001-64d0-4cc8-8c12-ab4b4d644a1b",
   "metadata": {},
   "outputs": [],
   "source": [
    "def count_elements(phrase):\n",
    "    characters = [character for character in phrase if character != ' ']\n",
    "    count_characters = len(characters)\n",
    "    print(f'{count_characters} elements')"
   ]
  },
  {
   "cell_type": "code",
   "execution_count": 31,
   "id": "d4b97add-637c-42f6-a54d-3aba618bc165",
   "metadata": {},
   "outputs": [
    {
     "name": "stdout",
     "output_type": "stream",
     "text": [
      "13 elements\n"
     ]
    }
   ],
   "source": [
    "count_elements('I love learning')"
   ]
  }
 ],
 "metadata": {
  "kernelspec": {
   "display_name": "Python 3 (ipykernel)",
   "language": "python",
   "name": "python3"
  },
  "language_info": {
   "codemirror_mode": {
    "name": "ipython",
    "version": 3
   },
   "file_extension": ".py",
   "mimetype": "text/x-python",
   "name": "python",
   "nbconvert_exporter": "python",
   "pygments_lexer": "ipython3",
   "version": "3.12.7"
  }
 },
 "nbformat": 4,
 "nbformat_minor": 5
}
