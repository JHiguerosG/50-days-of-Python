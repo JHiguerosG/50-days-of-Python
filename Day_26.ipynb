{
 "cells": [
  {
   "cell_type": "markdown",
   "id": "bcce15e7-bd45-4cab-b618-44aa46e0cc53",
   "metadata": {},
   "source": [
    "# Day 26: Sort Words\n",
    "\n",
    "Write a function called **sort_words** that takes a string of words as an argument, removes the whitespaces, and returns a list of letters sorted in alphabetical order. Letters will be separated by commas. All letters should appear once in the list. This means that you sort and remove duplicates. For example **'love life'** should return as **['e,f,i,l,o,v']**."
   ]
  },
  {
   "cell_type": "markdown",
   "id": "3a25cd73-dbd6-44f5-b4f5-d2797cd85e9f",
   "metadata": {},
   "source": [
    "# Día 26: Ordenar Palabras\n",
    "\n",
    "Escribe una función llamada **sort_words** que tome una cadena de palabras como argumento, elimine los espacios en blanco y devuelva una lista de letras ordenadas en orden alfabético. Las letras estarán separadas por comas y deben aparecer solo una vez en la lista. Esto significa que debes ordenar y eliminar duplicados. Por ejemplo, **'love life'** debería devolver **['e,f,i,l,o,v']**."
   ]
  },
  {
   "cell_type": "markdown",
   "id": "6ebecf6b-b671-40f6-a877-3a366b59831f",
   "metadata": {},
   "source": [
    "## Version 1"
   ]
  },
  {
   "cell_type": "code",
   "execution_count": 76,
   "id": "23bd86a6-3f53-4c63-a933-e5ced829920e",
   "metadata": {},
   "outputs": [],
   "source": [
    "def sort_words(list_of_words):\n",
    "    letters = []\n",
    "    for i in list_of_words.replace(' ', ''):\n",
    "        letters += i\n",
    "    result = [', '.join(sorted(list(set(letters))))]\n",
    "    return result"
   ]
  },
  {
   "cell_type": "code",
   "execution_count": 79,
   "id": "26b31694-fb21-40e6-bf73-bb090d389f0b",
   "metadata": {},
   "outputs": [
    {
     "data": {
      "text/plain": [
       "['e,f,i,l,o,v']"
      ]
     },
     "execution_count": 79,
     "metadata": {},
     "output_type": "execute_result"
    }
   ],
   "source": [
    "sort_words('love life')"
   ]
  },
  {
   "cell_type": "markdown",
   "id": "bcc99e0b-1c3b-4229-9d94-dae580899eef",
   "metadata": {},
   "source": [
    "## Version 2"
   ]
  },
  {
   "cell_type": "code",
   "execution_count": 78,
   "id": "ccca2fce-e2f2-4c62-b27f-f010503f529c",
   "metadata": {},
   "outputs": [],
   "source": [
    "def sort_words(list_of_words):\n",
    "    input_string = list_of_words.replace(' ', '')\n",
    "    unique_letters = set(input_string)\n",
    "    sorted_letters = sorted(unique_letters)\n",
    "    result = ','.join(sorted_letters)\n",
    "    return [result]"
   ]
  },
  {
   "cell_type": "code",
   "execution_count": 80,
   "id": "5009797f-79fe-43f4-851b-2a6337a7f561",
   "metadata": {},
   "outputs": [
    {
     "data": {
      "text/plain": [
       "['e,f,i,l,o,v']"
      ]
     },
     "execution_count": 80,
     "metadata": {},
     "output_type": "execute_result"
    }
   ],
   "source": [
    "sort_words('love life')"
   ]
  }
 ],
 "metadata": {
  "kernelspec": {
   "display_name": "Python 3 (ipykernel)",
   "language": "python",
   "name": "python3"
  },
  "language_info": {
   "codemirror_mode": {
    "name": "ipython",
    "version": 3
   },
   "file_extension": ".py",
   "mimetype": "text/x-python",
   "name": "python",
   "nbconvert_exporter": "python",
   "pygments_lexer": "ipython3",
   "version": "3.12.7"
  }
 },
 "nbformat": 4,
 "nbformat_minor": 5
}
