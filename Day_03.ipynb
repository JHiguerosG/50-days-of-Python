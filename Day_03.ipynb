{
 "cells": [
  {
   "cell_type": "markdown",
   "id": "237c4641-c207-45b5-8280-90009e2afe4f",
   "metadata": {},
   "source": [
    "# Day 3: Register Check\n",
    "\n",
    "Write a function called **register_check** that checks how many students are in school. The function takes a dictionary as a parameter. If the student is in school, the diccionary says **'yes'**. If the student is not in school, the dictionary says **'no'**. Your function should return the number of students in school. Use the dictionary below. Your function should return 3."
   ]
  },
  {
   "cell_type": "markdown",
   "id": "40ba0984-70ea-4365-992c-6728a964a979",
   "metadata": {},
   "source": [
    "# Día 3: Verificación de Registro\n",
    "\n",
    "Escribe una función llamada **register_check** que verifique cuántos estudiantes están en la escuela. La función toma un diccionario como parámetro. Si el estudiante está en la escuela, el diccionario dirá **'yes'**. Si el estudiante no está en la escuela, el diccionario dirá **'no'**. Tu función debe devolver el número de estudiantes que están en la escuela. Usa el siguiente diccionario. Tu función debe devolver 3."
   ]
  },
  {
   "cell_type": "code",
   "execution_count": 5,
   "id": "286c0349-6669-4950-91ec-749aed243566",
   "metadata": {},
   "outputs": [],
   "source": [
    "register = {'Michael': 'yes', 'John': 'no', 'Peter': 'yes', 'Mary': 'yes'}"
   ]
  },
  {
   "cell_type": "code",
   "execution_count": 7,
   "id": "975b340c-7251-45db-9188-ebfd1df9ca71",
   "metadata": {},
   "outputs": [
    {
     "data": {
      "text/plain": [
       "{'Michael': 'yes', 'John': 'no', 'Peter': 'yes', 'Mary': 'yes'}"
      ]
     },
     "execution_count": 7,
     "metadata": {},
     "output_type": "execute_result"
    }
   ],
   "source": [
    "register"
   ]
  },
  {
   "cell_type": "code",
   "execution_count": 22,
   "id": "c15486c2-813e-456c-942e-f746167e620f",
   "metadata": {},
   "outputs": [],
   "source": [
    "def register_check(dicctionary):\n",
    "    yes = 0\n",
    "    for valor in dicctionary.values():\n",
    "        if valor == 'yes':\n",
    "            yes += 1\n",
    "    return f'Los estudiantes que están en la escuela son: {yes}'"
   ]
  },
  {
   "cell_type": "code",
   "execution_count": 24,
   "id": "95f2c88b-84ec-48e7-842b-0348fb970177",
   "metadata": {},
   "outputs": [
    {
     "data": {
      "text/plain": [
       "'Los estudiantes que están en la escuela son: 3'"
      ]
     },
     "execution_count": 24,
     "metadata": {},
     "output_type": "execute_result"
    }
   ],
   "source": [
    "register_check(register)"
   ]
  }
 ],
 "metadata": {
  "kernelspec": {
   "display_name": "Python 3 (ipykernel)",
   "language": "python",
   "name": "python3"
  },
  "language_info": {
   "codemirror_mode": {
    "name": "ipython",
    "version": 3
   },
   "file_extension": ".py",
   "mimetype": "text/x-python",
   "name": "python",
   "nbconvert_exporter": "python",
   "pygments_lexer": "ipython3",
   "version": "3.11.5"
  }
 },
 "nbformat": 4,
 "nbformat_minor": 5
}
