{
 "cells": [
  {
   "cell_type": "markdown",
   "id": "d8ba1c9a-efaa-4cfd-9196-4c7f71a3329e",
   "metadata": {},
   "source": [
    "# Day 32: Password Validator\n",
    "\n",
    "Write a function called **password_validator**. The function asks the user to enter a password. A valid password should have at least **one upper letter**, **one lower letter**, and **one number**. It should no be less than **8 characters long**. When the user enters a password, the function should check if the password is **valid**. If the password is valid, the function should return the **valid password**. If the password is not valid, the function should tell the users the **errors** in the password and prompt the uste to enter **another password**. The code should only stop once the user enters a valid password (use while loop)."
   ]
  },
  {
   "cell_type": "markdown",
   "id": "972b40ef-8786-4795-8fcf-2ada4c7bb2bb",
   "metadata": {},
   "source": [
    "# Día 32: Validador de Contraseña\n",
    "\n",
    "Escribe una función llamada **password_validator**. La función pide al usuario que ingrese una contraseña. Una contraseña válida debe tener al menos **una letra mayúscula**, **una letra minúscula** y **un número**. No debe tener menos de **8 caracteres de longitud**. Cuando el usuario ingresa una contraseña, la función debe verificar si la contraseña es **válida**. Si la contraseña es válida, la función debe devolver **la contraseña válida**. Si la contraseña no es válida, la función debe decirle al usuario los **errores** en la contraseña y solicitarle que ingrese **otra contraseña**. El código debe detenerse solo cuando el usuario ingrese una contraseña válida (usa un bucle while)."
   ]
  },
  {
   "cell_type": "markdown",
   "id": "861ce111-851e-4195-9026-72ee3d52488f",
   "metadata": {},
   "source": [
    "## Version 1"
   ]
  },
  {
   "cell_type": "code",
   "execution_count": 43,
   "id": "40903589-c5dc-4a2f-978f-125264fc823e",
   "metadata": {},
   "outputs": [],
   "source": [
    "def password_validator():\n",
    "    while True:\n",
    "        password = input('>>> Enter a password: ')\n",
    "\n",
    "        if any(character.islower() for character in password):\n",
    "            if any(character.isupper() for character in password):\n",
    "                if any(character.isdigit() for character in password):\n",
    "                    if len(password) >= 8:\n",
    "                        print(f'Password validated: {password}') \n",
    "                        print('Program finished.')\n",
    "                        break\n",
    "                    else:\n",
    "                        print('The password must be at least 8 characters long. Try again')\n",
    "                else:\n",
    "                    print('The password must have at least one number. Try again')\n",
    "            else:\n",
    "                print('The password must have at least one uppercase letter. Try again')\n",
    "        else:\n",
    "            print('The password must have at least one lowercase letter. Try again')"
   ]
  },
  {
   "cell_type": "code",
   "execution_count": 45,
   "id": "f9e9b04b-b04b-4a21-b9f8-4a4c1dabb9f5",
   "metadata": {},
   "outputs": [
    {
     "name": "stdin",
     "output_type": "stream",
     "text": [
      ">>> Enter a password:  abc\n"
     ]
    },
    {
     "name": "stdout",
     "output_type": "stream",
     "text": [
      "The password must have at least one uppercase letter. Try again\n"
     ]
    },
    {
     "name": "stdin",
     "output_type": "stream",
     "text": [
      ">>> Enter a password:  abcDE\n"
     ]
    },
    {
     "name": "stdout",
     "output_type": "stream",
     "text": [
      "The password must have at least one number. Try again\n"
     ]
    },
    {
     "name": "stdin",
     "output_type": "stream",
     "text": [
      ">>> Enter a password:  abcDE12\n"
     ]
    },
    {
     "name": "stdout",
     "output_type": "stream",
     "text": [
      "The password must be at least 8 characters long. Try again\n"
     ]
    },
    {
     "name": "stdin",
     "output_type": "stream",
     "text": [
      ">>> Enter a password:  abcDE123\n"
     ]
    },
    {
     "name": "stdout",
     "output_type": "stream",
     "text": [
      "Password validated: abcDE123\n",
      "Program finished.\n"
     ]
    }
   ],
   "source": [
    "password_validator()"
   ]
  },
  {
   "cell_type": "markdown",
   "id": "0e6d6851-12ed-4d88-a8a3-e7368a18ca99",
   "metadata": {},
   "source": [
    "## Version 2"
   ]
  },
  {
   "cell_type": "code",
   "execution_count": 48,
   "id": "096cdd1d-28bb-47bc-949e-1d96cb50124c",
   "metadata": {},
   "outputs": [],
   "source": [
    "def password_validator():\n",
    "    while True:\n",
    "        password = input(\">>> Enter a password: \")\n",
    "        errors = []\n",
    "\n",
    "        if len(password) < 8:\n",
    "            errors.append('The password must be at least 8 characters long.')\n",
    "        if not any(char.islower() for char in password):\n",
    "            errors.append('The password must have at least one lowercase letter.')\n",
    "        if not any(char.isupper() for char in password):\n",
    "            errors.append('The password must have at least one uppercase letter.')\n",
    "        if not any(char.isdigit() for char in password):\n",
    "            errors.append('The password must have at least one number.')\n",
    "\n",
    "        if not errors:\n",
    "            print('\\nPassword validated:')\n",
    "            return password\n",
    "        else:\n",
    "            print(\"\\nErrors in the password:\")\n",
    "            for error in errors:\n",
    "                print(f\"- {error}\")\n",
    "            print(\"\\n>>> Try again.\")"
   ]
  },
  {
   "cell_type": "code",
   "execution_count": 49,
   "id": "726b4c0a-a27b-4620-b435-a28879066039",
   "metadata": {},
   "outputs": [
    {
     "name": "stdin",
     "output_type": "stream",
     "text": [
      ">>> Enter a password:  abc\n"
     ]
    },
    {
     "name": "stdout",
     "output_type": "stream",
     "text": [
      "\n",
      "Errors in the password:\n",
      "- The password must be at least 8 characters long.\n",
      "- The password must have at least one uppercase letter.\n",
      "- The password must have at least one number.\n",
      "\n",
      ">>> Try again.\n"
     ]
    },
    {
     "name": "stdin",
     "output_type": "stream",
     "text": [
      ">>> Enter a password:  abcDE0123\n"
     ]
    },
    {
     "name": "stdout",
     "output_type": "stream",
     "text": [
      "\n",
      "Password validated:\n"
     ]
    },
    {
     "data": {
      "text/plain": [
       "'abcDE0123'"
      ]
     },
     "execution_count": 49,
     "metadata": {},
     "output_type": "execute_result"
    }
   ],
   "source": [
    "password_validator()"
   ]
  }
 ],
 "metadata": {
  "kernelspec": {
   "display_name": "Python 3 (ipykernel)",
   "language": "python",
   "name": "python3"
  },
  "language_info": {
   "codemirror_mode": {
    "name": "ipython",
    "version": 3
   },
   "file_extension": ".py",
   "mimetype": "text/x-python",
   "name": "python",
   "nbconvert_exporter": "python",
   "pygments_lexer": "ipython3",
   "version": "3.12.7"
  }
 },
 "nbformat": 4,
 "nbformat_minor": 5
}
