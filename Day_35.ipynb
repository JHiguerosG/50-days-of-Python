{
 "cells": [
  {
   "cell_type": "markdown",
   "id": "236d14fc-9e71-46f3-ab24-a016eee6f3d0",
   "metadata": {},
   "source": [
    "# Day 35: Pangram\n",
    "\n",
    "Write a function called **check_pangram** that takes a string and checks if it is a pangram. **A pangram is a sentence that contains all the letters of the alphabet**. If it is a pangram, the function should return **True**, otherwise, return **False**. the following sentence is a pangram so it should return **True**.\n",
    "\n",
    "**'the quick brown fox jumps over a lazy dog'**"
   ]
  },
  {
   "cell_type": "markdown",
   "id": "31c91c02-83af-4218-b6cd-c88bd2b4096b",
   "metadata": {},
   "source": [
    "# Día 35: Pangrama\n",
    "\n",
    "Escribe una función llamada **check_pangram** que tome una cadena y verifique si es un pangrama. **Un pangrama es una oración que contiene todas las letras del alfabeto**. Si es un pangrama, la función debe devolver **True**, de lo contrario, debe devolver **False**. La siguiente oración es un pangrama, por lo que debe devolver **True**.\n",
    "\n",
    "**'the quick brown fox jumps over a lazy dog'**"
   ]
  },
  {
   "cell_type": "code",
   "execution_count": 73,
   "id": "26964f9c-6575-4e23-8691-41937fab9a54",
   "metadata": {},
   "outputs": [],
   "source": [
    "import string\n",
    "\n",
    "def check_pangram(sentence):\n",
    "    \n",
    "    # Create a set of all the letters of the alphabet in lowercase.\n",
    "    alphabet_set = sorted(set(string.ascii_lowercase))\n",
    "\n",
    "    # Create a set of all the letters in the sentence, in lowercase and without spaces.\n",
    "    sentence_set = sorted(set(sentence.replace(' ','').lower()))\n",
    "\n",
    "    # Compare the two sets.\n",
    "    return alphabet_set == sentence_set"
   ]
  },
  {
   "cell_type": "code",
   "execution_count": 74,
   "id": "45dd24b4-1eaf-4078-a329-b4609a9dfb12",
   "metadata": {},
   "outputs": [
    {
     "name": "stdout",
     "output_type": "stream",
     "text": [
      "True\n"
     ]
    }
   ],
   "source": [
    "print(check_pangram('the quick brown fox jumps over a lazy dog'))"
   ]
  },
  {
   "cell_type": "code",
   "execution_count": 75,
   "id": "768d3ce3-2940-4e3e-ab6d-99016d06967f",
   "metadata": {},
   "outputs": [
    {
     "name": "stdout",
     "output_type": "stream",
     "text": [
      "True\n"
     ]
    }
   ],
   "source": [
    "print(check_pangram('Jackdaws love my big sphinx of quartz'))"
   ]
  }
 ],
 "metadata": {
  "kernelspec": {
   "display_name": "Python 3 (ipykernel)",
   "language": "python",
   "name": "python3"
  },
  "language_info": {
   "codemirror_mode": {
    "name": "ipython",
    "version": 3
   },
   "file_extension": ".py",
   "mimetype": "text/x-python",
   "name": "python",
   "nbconvert_exporter": "python",
   "pygments_lexer": "ipython3",
   "version": "3.12.3"
  }
 },
 "nbformat": 4,
 "nbformat_minor": 5
}
