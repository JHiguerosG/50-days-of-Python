{
 "cells": [
  {
   "cell_type": "markdown",
   "id": "a85631aa-b210-4ed9-80ee-00285289b2ac",
   "metadata": {},
   "source": [
    "# Day 39: Password Generator\n",
    "\n",
    "Create a function called **generate_password** that generates any length of password for the user. The password should have **a random mix of upper letters, lower letters, numbers and punctuation symbols**. The function should ask the user how strong they want the password to be. If the user picks **weak**, the function should generate a **5 character** long password. If the user picks **strong**, generate an **8 character** password and if the pick **very strong**, generate a **12 character** password."
   ]
  },
  {
   "cell_type": "markdown",
   "id": "fe3d9987-b5d7-4500-a692-ae1f1951f7de",
   "metadata": {},
   "source": [
    "# Día 39: Generador de Contraseñas\n",
    "\n",
    "Crea una función llamada **generate_password** que genere cualquier longitud de contraseña para el usuario. La contraseña debe tener **una mezcla aleatoria de letras mayúsculas, letras minúsculas, números y símbolos de puntuación**. La función debe preguntar al usuario qué tan fuerte quiere que sea la contraseña. Si el usuario elige **débil**, la función debe generar una contraseña de **5 caracteres**. Si el usuario elige **fuerte**, generar una contraseña de **8 caracteres** y si elige **muy fuerte**, generar una contraseña de **12 caracteres**."
   ]
  },
  {
   "cell_type": "code",
   "execution_count": 94,
   "id": "705713cc-0dc8-4557-ad59-834b7b02f9b0",
   "metadata": {},
   "outputs": [],
   "source": [
    "import string\n",
    "import random\n",
    "\n",
    "symbols = list(string.punctuation)\n",
    "numbers = list(string.digits)\n",
    "uppercase_letters = list(string.ascii_uppercase)\n",
    "lowercase_letters = list(string.ascii_lowercase)\n",
    "\n",
    "def generate_password():\n",
    "    while True:\n",
    "        try:\n",
    "            how_strong = int(input('>>> How strong do you want the password: \\n1. Weak\\n2. Strong\\n3. Very Strong\\n'))\n",
    "            if how_strong == 1:\n",
    "                len_password = 5\n",
    "            elif how_strong == 2:\n",
    "                len_password = 8\n",
    "            elif how_strong == 3:\n",
    "                len_password = 12\n",
    "            else:\n",
    "                print('\\nYou can only choose: 1, 2, or 3. Try again.\\n')\n",
    "                continue\n",
    "            break\n",
    "        except ValueError:\n",
    "            print('\\nYou cannot enter letters. You can only choose between 1, 2, or 3. Try again.\\n')\n",
    "\n",
    "    password = []\n",
    "    password.append(random.choice(symbols))\n",
    "    password.append(random.choice(numbers))\n",
    "    password.append(random.choice(uppercase_letters))\n",
    "    password.append(random.choice(lowercase_letters))\n",
    "\n",
    "    for _ in range(len_password - 4):\n",
    "        character_type = random.choice([symbols, numbers, uppercase_letters, lowercase_letters])\n",
    "        password.append(random.choice(character_type))\n",
    "\n",
    "    random.shuffle(password)\n",
    "    return ''.join(password)"
   ]
  },
  {
   "cell_type": "code",
   "execution_count": 95,
   "id": "d60f534e-a3a6-46ca-8050-d659569549a1",
   "metadata": {},
   "outputs": [
    {
     "name": "stdin",
     "output_type": "stream",
     "text": [
      ">>> How strong do you want the password: \n",
      "1. Weak\n",
      "2. Strong\n",
      "3. Very Strong\n",
      " 2\n"
     ]
    },
    {
     "name": "stdout",
     "output_type": "stream",
     "text": [
      "15A#87vS\n"
     ]
    }
   ],
   "source": [
    "# Generate and print the password\n",
    "print(generate_password())"
   ]
  },
  {
   "cell_type": "code",
   "execution_count": 96,
   "id": "feb0d9de-0411-4623-ba12-86ed3782e26e",
   "metadata": {},
   "outputs": [
    {
     "name": "stdin",
     "output_type": "stream",
     "text": [
      ">>> How strong do you want the password: \n",
      "1. Weak\n",
      "2. Strong\n",
      "3. Very Strong\n",
      " 3\n"
     ]
    },
    {
     "name": "stdout",
     "output_type": "stream",
     "text": [
      "Tr8!G0a8ph(;\n"
     ]
    }
   ],
   "source": [
    "# Generate and print the password\n",
    "print(generate_password())"
   ]
  },
  {
   "cell_type": "code",
   "execution_count": 97,
   "id": "52e1d34e-c847-4ef2-81e3-b0e7ee5c1e70",
   "metadata": {},
   "outputs": [
    {
     "name": "stdin",
     "output_type": "stream",
     "text": [
      ">>> How strong do you want the password: \n",
      "1. Weak\n",
      "2. Strong\n",
      "3. Very Strong\n",
      " 1\n"
     ]
    },
    {
     "name": "stdout",
     "output_type": "stream",
     "text": [
      "(it4C\n"
     ]
    }
   ],
   "source": [
    "# Generate and print the password\n",
    "print(generate_password())"
   ]
  }
 ],
 "metadata": {
  "kernelspec": {
   "display_name": "Python 3 (ipykernel)",
   "language": "python",
   "name": "python3"
  },
  "language_info": {
   "codemirror_mode": {
    "name": "ipython",
    "version": 3
   },
   "file_extension": ".py",
   "mimetype": "text/x-python",
   "name": "python",
   "nbconvert_exporter": "python",
   "pygments_lexer": "ipython3",
   "version": "3.12.3"
  }
 },
 "nbformat": 4,
 "nbformat_minor": 5
}
