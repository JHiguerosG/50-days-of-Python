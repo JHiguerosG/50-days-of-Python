{
 "cells": [
  {
   "cell_type": "markdown",
   "id": "4871881b-fa31-407b-bda4-721098721d38",
   "metadata": {},
   "source": [
    "# Day 16: Sum the List\n",
    "\n",
    "Write a function called **sum_list** with one parameter that takes a **nested list** of integers as an argument and returns the sum of the integers. For example, if you pass **[[2, 4, 5, 6], [2, 3, 5, 6]]** as an argument your function should return a sum of **33**."
   ]
  },
  {
   "cell_type": "markdown",
   "id": "60c9fb92-8c27-4d96-8cb4-dff532146fc2",
   "metadata": {},
   "source": [
    "# Día 16: Sumar la Lista\n",
    "Escribe una función llamada **sum_list** con un parámetro que tome una lista anidada de enteros como argumento y devuelva la suma de los enteros. Por ejemplo, si pasas **[[2, 4, 5, 6], [2, 3, 5, 6]]** como argumento, tu función debería devolver una suma de **33**."
   ]
  },
  {
   "cell_type": "code",
   "execution_count": 15,
   "id": "ab5115a6-5064-4857-ab14-4e3644b31460",
   "metadata": {},
   "outputs": [],
   "source": [
    "def sum_list(nested_list):\n",
    "    sum_new_list = 0\n",
    "    new_list = [item for i in lista for item in i]\n",
    "    for num in new_list:\n",
    "        sum_new_list += num\n",
    "    return sum_new_list"
   ]
  },
  {
   "cell_type": "code",
   "execution_count": 16,
   "id": "3dad9431-98cf-468c-a01f-99f2e3ea48a8",
   "metadata": {},
   "outputs": [
    {
     "data": {
      "text/plain": [
       "33"
      ]
     },
     "execution_count": 16,
     "metadata": {},
     "output_type": "execute_result"
    }
   ],
   "source": [
    "sum_list([[2, 4, 5, 6], [2, 3, 5, 6]])"
   ]
  }
 ],
 "metadata": {
  "kernelspec": {
   "display_name": "Python 3 (ipykernel)",
   "language": "python",
   "name": "python3"
  },
  "language_info": {
   "codemirror_mode": {
    "name": "ipython",
    "version": 3
   },
   "file_extension": ".py",
   "mimetype": "text/x-python",
   "name": "python",
   "nbconvert_exporter": "python",
   "pygments_lexer": "ipython3",
   "version": "3.12.7"
  }
 },
 "nbformat": 4,
 "nbformat_minor": 5
}
