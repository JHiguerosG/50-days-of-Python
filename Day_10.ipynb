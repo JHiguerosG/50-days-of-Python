{
 "cells": [
  {
   "cell_type": "markdown",
   "id": "8f5e979a-64e5-48f9-b9be-0741a011d22b",
   "metadata": {},
   "source": [
    "# Day 10: Hide my Password\n",
    "\n",
    "Write a function called **hide_password** that takes no parameters. The function takes an input (a password) from a user and returns a hidden password. For example, if the user enters 'hello' as a password the function should return '****' as a password and tell the user that the password is **4 characters** long."
   ]
  },
  {
   "cell_type": "markdown",
   "id": "2ffb2637-82d6-439f-9957-fe7bf485b318",
   "metadata": {},
   "source": [
    "# Día 10: Ocultar mi Contraseña\n",
    "\n",
    "Escribe una función llamada **hide_password** que no tome parámetros. La función debe solicitar una contraseña al usuario como entrada y devolver una versión oculta de la contraseña. Por ejemplo, si el usuario ingresa 'hello' como contraseña, la función debería devolver '****' como contraseña y decirle al usuario que la contraseña tiene **4 caracteres**."
   ]
  },
  {
   "cell_type": "code",
   "execution_count": 72,
   "id": "990b42d0-bfe5-4505-a353-705b4b01e595",
   "metadata": {},
   "outputs": [],
   "source": [
    "def hide_password():\n",
    "    password = input('Please enter your password:')\n",
    "    hide_pass = len(password) * '*'\n",
    "    print(f'\\n{\"Password\":<12}Characters long')\n",
    "    print(f'{hide_pass :<12}{len(password)}')"
   ]
  },
  {
   "cell_type": "code",
   "execution_count": 74,
   "id": "7e7c1601-a3e0-4ab8-bfb6-00ea54ee245e",
   "metadata": {},
   "outputs": [
    {
     "name": "stdin",
     "output_type": "stream",
     "text": [
      "Please enter your password: 187\n"
     ]
    },
    {
     "name": "stdout",
     "output_type": "stream",
     "text": [
      "\n",
      "Password    Characters long\n",
      "***         3\n"
     ]
    }
   ],
   "source": [
    "hide_password()"
   ]
  },
  {
   "cell_type": "code",
   "execution_count": 76,
   "id": "258e71f8-eae7-4306-9fa3-596c23e97e61",
   "metadata": {},
   "outputs": [
    {
     "name": "stdin",
     "output_type": "stream",
     "text": [
      "Please enter your password: 79852\n"
     ]
    },
    {
     "name": "stdout",
     "output_type": "stream",
     "text": [
      "\n",
      "Password    Characters long\n",
      "*****       5\n"
     ]
    }
   ],
   "source": [
    "hide_password()"
   ]
  },
  {
   "cell_type": "code",
   "execution_count": 78,
   "id": "bd0c66c1-3f79-4be2-aaa5-8c41c5f71519",
   "metadata": {},
   "outputs": [
    {
     "name": "stdin",
     "output_type": "stream",
     "text": [
      "Please enter your password: 798416834\n"
     ]
    },
    {
     "name": "stdout",
     "output_type": "stream",
     "text": [
      "\n",
      "Password    Characters long\n",
      "*********   9\n"
     ]
    }
   ],
   "source": [
    "hide_password()"
   ]
  },
  {
   "cell_type": "markdown",
   "id": "9553d513-4e53-41e3-aca0-62c0a988d1c7",
   "metadata": {},
   "source": [
    "## Extra Challenge: Strings With a Thousand Separator\n",
    "\n",
    "b. Your new company has a list of figures saved in a list. The issue is that these numbers have **no separator**. The numbers are saved in the followin format:\n",
    "\n",
    "**[1000000, 2356989, 2354672, 9878098]**\n",
    "\n",
    "You have been asked to write a code that will convert each of the numbers in the list into a **string**. Your code should then add a comma on each number as **a thousand separator** for readability. When you run your code on the above list, your output should be:\n",
    "\n",
    "**['1,000,000', '2,356,672', '2,354,672', '9,878,098']**\n",
    "\n",
    "Write a function called **convert_numbers** that will take one argument, a list or numbers above."
   ]
  },
  {
   "cell_type": "markdown",
   "id": "a3286bba-ca44-4cd6-9d03-49031b860976",
   "metadata": {},
   "source": [
    "## Desafío Extra: Cadenas con Separador de Miles\n",
    "\n",
    "b. Tu nueva empresa tiene una lista de cifras guardadas en una lista. El problema es que estos números **no tienen separadores**. Los números están guardados en el siguiente formato:\n",
    "\n",
    "**[1000000, 2356989, 2354672, 9878098]**\n",
    "\n",
    "Se te ha pedido escribir un código que convierta cada número de la lista en una **cadena**. Luego, el código debe agregar una coma en cada número como **separador de miles** para mejorar la legibilidad.\n",
    "\n",
    "Cuando ejecutes tu código en la lista anterior, tu salida debería ser:\n",
    "\n",
    "**['1,000,000', '2,356,989', '2,354,672', '9,878,098']**\n",
    "\n",
    "Escribe una función llamada **convert_numbers** que tome un argumento, una lista de números como la anterior."
   ]
  },
  {
   "cell_type": "code",
   "execution_count": 59,
   "id": "95a5f56a-f03b-4d64-9dab-aa51ae10bcd3",
   "metadata": {},
   "outputs": [],
   "source": [
    "data = [1000000, 2356989, 2354672, 9878098]"
   ]
  },
  {
   "cell_type": "code",
   "execution_count": 65,
   "id": "7e34c8a5-57bd-4ec5-8ab3-3c280ff277e6",
   "metadata": {},
   "outputs": [],
   "source": [
    "def convert_numbers(number_list):\n",
    "    return [f\"{num:,}\" for num in number_list]"
   ]
  },
  {
   "cell_type": "code",
   "execution_count": 67,
   "id": "910f7b21-97f7-40b1-b59b-912c038c5d1f",
   "metadata": {},
   "outputs": [
    {
     "data": {
      "text/plain": [
       "['1,000,000', '2,356,989', '2,354,672', '9,878,098']"
      ]
     },
     "execution_count": 67,
     "metadata": {},
     "output_type": "execute_result"
    }
   ],
   "source": [
    "convert_numbers(data)"
   ]
  }
 ],
 "metadata": {
  "kernelspec": {
   "display_name": "Python 3 (ipykernel)",
   "language": "python",
   "name": "python3"
  },
  "language_info": {
   "codemirror_mode": {
    "name": "ipython",
    "version": 3
   },
   "file_extension": ".py",
   "mimetype": "text/x-python",
   "name": "python",
   "nbconvert_exporter": "python",
   "pygments_lexer": "ipython3",
   "version": "3.11.5"
  }
 },
 "nbformat": 4,
 "nbformat_minor": 5
}
