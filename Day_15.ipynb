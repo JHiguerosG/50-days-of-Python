{
 "cells": [
  {
   "cell_type": "markdown",
   "id": "b45f71b0-4c52-49c4-a28b-15943e79be9c",
   "metadata": {},
   "source": [
    "# Day 15: Same in Reverse\n",
    "\n",
    "Write a function called **same_in_reverse** that takes a string and checks if the string reads the same in reverse. If it is the same, the code should return **True** if not, it should return **False**. For example, **'dad'** should return **True**, because it reads the same in reverse."
   ]
  },
  {
   "cell_type": "markdown",
   "id": "899df7dd-d232-40a6-9c56-ddb044702b0f",
   "metadata": {},
   "source": [
    "# Día 15: Igual en reversa\n",
    "\n",
    "Escribe una función llamada **same_in_reverse** que tome una cadena de texto y verifique si se lee igual en reversa. Si es igual, el código debe devolver **True**; de lo contrario, debe devolver **False**. Por ejemplo, **'dad'** debería devolver **True**, porque se lee igual en reversa."
   ]
  },
  {
   "cell_type": "code",
   "execution_count": 56,
   "id": "03472522-3e9a-4bae-890a-989f596db36f",
   "metadata": {},
   "outputs": [],
   "source": [
    "def same_in_reverse(string):\n",
    "    reverse = ''\n",
    "    for i in string[::-1]:\n",
    "        reverse += i\n",
    "    return string == reverse"
   ]
  },
  {
   "cell_type": "code",
   "execution_count": 57,
   "id": "3358df65-567d-4631-b1a8-a0359c15a892",
   "metadata": {},
   "outputs": [
    {
     "data": {
      "text/plain": [
       "True"
      ]
     },
     "execution_count": 57,
     "metadata": {},
     "output_type": "execute_result"
    }
   ],
   "source": [
    "same_in_reverse('dad')"
   ]
  },
  {
   "cell_type": "code",
   "execution_count": 58,
   "id": "348b98e7-a1d2-4df4-ada2-6fff2cebac89",
   "metadata": {},
   "outputs": [
    {
     "data": {
      "text/plain": [
       "False"
      ]
     },
     "execution_count": 58,
     "metadata": {},
     "output_type": "execute_result"
    }
   ],
   "source": [
    "same_in_reverse('bye')"
   ]
  },
  {
   "cell_type": "code",
   "execution_count": 59,
   "id": "3522c50b-2d86-41b6-93cb-c2738ba0a607",
   "metadata": {},
   "outputs": [
    {
     "data": {
      "text/plain": [
       "False"
      ]
     },
     "execution_count": 59,
     "metadata": {},
     "output_type": "execute_result"
    }
   ],
   "source": [
    "same_in_reverse('carro')"
   ]
  },
  {
   "cell_type": "code",
   "execution_count": 60,
   "id": "559ee5c2-9a34-4a66-b448-1b84e2f50878",
   "metadata": {},
   "outputs": [
    {
     "data": {
      "text/plain": [
       "True"
      ]
     },
     "execution_count": 60,
     "metadata": {},
     "output_type": "execute_result"
    }
   ],
   "source": [
    "same_in_reverse('radar')"
   ]
  },
  {
   "cell_type": "code",
   "execution_count": 61,
   "id": "51eee2e7-6d64-409c-8c15-7b52f91fd8b9",
   "metadata": {},
   "outputs": [
    {
     "data": {
      "text/plain": [
       "True"
      ]
     },
     "execution_count": 61,
     "metadata": {},
     "output_type": "execute_result"
    }
   ],
   "source": [
    "same_in_reverse('reconocer')"
   ]
  },
  {
   "cell_type": "code",
   "execution_count": 63,
   "id": "b6a7fe1d-d1cb-4605-ac81-cdcf8eebd57b",
   "metadata": {},
   "outputs": [
    {
     "data": {
      "text/plain": [
       "True"
      ]
     },
     "execution_count": 63,
     "metadata": {},
     "output_type": "execute_result"
    }
   ],
   "source": [
    "same_in_reverse('somos')"
   ]
  }
 ],
 "metadata": {
  "kernelspec": {
   "display_name": "Python 3 (ipykernel)",
   "language": "python",
   "name": "python3"
  },
  "language_info": {
   "codemirror_mode": {
    "name": "ipython",
    "version": 3
   },
   "file_extension": ".py",
   "mimetype": "text/x-python",
   "name": "python",
   "nbconvert_exporter": "python",
   "pygments_lexer": "ipython3",
   "version": "3.12.7"
  }
 },
 "nbformat": 4,
 "nbformat_minor": 5
}
