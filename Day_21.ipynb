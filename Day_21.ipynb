{
 "cells": [
  {
   "cell_type": "markdown",
   "id": "388d63ee-bbb5-42f6-be5c-8a81e3c5b880",
   "metadata": {},
   "source": [
    "# Day 21: List of Tuples\n",
    "\n",
    "Write a function called **make_tuples** that takes two lists, equal lists, and combines them into a list of tuples. For example if list **a** is **[1,2,3,4]** and list **b** is **[5,6,7,8]**, your function should return **[(1,5),(2,6),(3,7),(4,8)]**."
   ]
  },
  {
   "cell_type": "markdown",
   "id": "761be7dc-96f9-4a96-bbdc-0ef4898a8818",
   "metadata": {},
   "source": [
    "# Día 21: Lista de Tuplas\n",
    "\n",
    "Escribe una función llamada **make_tuples** que tome dos listas de igual longitud y las combine en una lista de tuplas. Por ejemplo, si la lista **a** es **[1,2,3,4]** y la lista **b** es **[5,6,7,8]**, tu función debería devolver **[(1,5),(2,6),(3,7),(4,8)]**."
   ]
  },
  {
   "cell_type": "code",
   "execution_count": 81,
   "id": "ccd8a440-ce56-4e68-b038-521653879841",
   "metadata": {},
   "outputs": [],
   "source": [
    "def make_tuples(list_a, list_b):\n",
    "    list_of_tuples = []\n",
    "    for value_a, value_b in zip(list_a, list_b):\n",
    "        list_of_tuples.append((value_a, value_b))\n",
    "    return list_of_tuples"
   ]
  },
  {
   "cell_type": "code",
   "execution_count": 82,
   "id": "afa5a3e4-d035-4c5a-903a-e997cb44400c",
   "metadata": {},
   "outputs": [
    {
     "data": {
      "text/plain": [
       "[(1, 5), (2, 6), (3, 7), (4, 8)]"
      ]
     },
     "execution_count": 82,
     "metadata": {},
     "output_type": "execute_result"
    }
   ],
   "source": [
    "make_tuples( [1,2,3,4], [5,6,7,8])"
   ]
  }
 ],
 "metadata": {
  "kernelspec": {
   "display_name": "Python 3 (ipykernel)",
   "language": "python",
   "name": "python3"
  },
  "language_info": {
   "codemirror_mode": {
    "name": "ipython",
    "version": 3
   },
   "file_extension": ".py",
   "mimetype": "text/x-python",
   "name": "python",
   "nbconvert_exporter": "python",
   "pygments_lexer": "ipython3",
   "version": "3.12.7"
  }
 },
 "nbformat": 4,
 "nbformat_minor": 5
}
